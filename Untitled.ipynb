{
 "cells": [
  {
   "cell_type": "code",
   "execution_count": 1,
   "id": "5ade0c31",
   "metadata": {},
   "outputs": [],
   "source": [
    "import pandas as pd\n",
    "import numpy as np\n",
    "import matplotlib.pyplot as plt\n",
    "import seaborn as sns\n",
    "%matplotlib inline"
   ]
  },
  {
   "cell_type": "code",
   "execution_count": 28,
   "id": "26a90bf2",
   "metadata": {},
   "outputs": [],
   "source": [
    "# df = pd.read_csv(\"online_retail_dataset.csv\")\n",
    "df=pd.read_excel('online_retail_dataset.xlsx', sheet_name='Online Retail')"
   ]
  },
  {
   "cell_type": "code",
   "execution_count": 29,
   "id": "19ebea1f",
   "metadata": {},
   "outputs": [
    {
     "data": {
      "text/html": [
       "<div>\n",
       "<style scoped>\n",
       "    .dataframe tbody tr th:only-of-type {\n",
       "        vertical-align: middle;\n",
       "    }\n",
       "\n",
       "    .dataframe tbody tr th {\n",
       "        vertical-align: top;\n",
       "    }\n",
       "\n",
       "    .dataframe thead th {\n",
       "        text-align: right;\n",
       "    }\n",
       "</style>\n",
       "<table border=\"1\" class=\"dataframe\">\n",
       "  <thead>\n",
       "    <tr style=\"text-align: right;\">\n",
       "      <th></th>\n",
       "      <th>InvoiceNo</th>\n",
       "      <th>StockCode</th>\n",
       "      <th>Description</th>\n",
       "      <th>Quantity</th>\n",
       "      <th>InvoiceDate</th>\n",
       "      <th>UnitPrice</th>\n",
       "      <th>CustomerID</th>\n",
       "      <th>Country</th>\n",
       "    </tr>\n",
       "  </thead>\n",
       "  <tbody>\n",
       "    <tr>\n",
       "      <th>0</th>\n",
       "      <td>536365</td>\n",
       "      <td>85123A</td>\n",
       "      <td>WHITE HANGING HEART T-LIGHT HOLDER</td>\n",
       "      <td>6</td>\n",
       "      <td>2010-12-01 08:26:00</td>\n",
       "      <td>2.55</td>\n",
       "      <td>17850.0</td>\n",
       "      <td>United Kingdom</td>\n",
       "    </tr>\n",
       "    <tr>\n",
       "      <th>1</th>\n",
       "      <td>536365</td>\n",
       "      <td>71053</td>\n",
       "      <td>WHITE METAL LANTERN</td>\n",
       "      <td>6</td>\n",
       "      <td>2010-12-01 08:26:00</td>\n",
       "      <td>3.39</td>\n",
       "      <td>17850.0</td>\n",
       "      <td>United Kingdom</td>\n",
       "    </tr>\n",
       "    <tr>\n",
       "      <th>2</th>\n",
       "      <td>536365</td>\n",
       "      <td>84406B</td>\n",
       "      <td>CREAM CUPID HEARTS COAT HANGER</td>\n",
       "      <td>8</td>\n",
       "      <td>2010-12-01 08:26:00</td>\n",
       "      <td>2.75</td>\n",
       "      <td>17850.0</td>\n",
       "      <td>United Kingdom</td>\n",
       "    </tr>\n",
       "    <tr>\n",
       "      <th>3</th>\n",
       "      <td>536365</td>\n",
       "      <td>84029G</td>\n",
       "      <td>KNITTED UNION FLAG HOT WATER BOTTLE</td>\n",
       "      <td>6</td>\n",
       "      <td>2010-12-01 08:26:00</td>\n",
       "      <td>3.39</td>\n",
       "      <td>17850.0</td>\n",
       "      <td>United Kingdom</td>\n",
       "    </tr>\n",
       "    <tr>\n",
       "      <th>4</th>\n",
       "      <td>536365</td>\n",
       "      <td>84029E</td>\n",
       "      <td>RED WOOLLY HOTTIE WHITE HEART.</td>\n",
       "      <td>6</td>\n",
       "      <td>2010-12-01 08:26:00</td>\n",
       "      <td>3.39</td>\n",
       "      <td>17850.0</td>\n",
       "      <td>United Kingdom</td>\n",
       "    </tr>\n",
       "  </tbody>\n",
       "</table>\n",
       "</div>"
      ],
      "text/plain": [
       "  InvoiceNo StockCode                          Description  Quantity  \\\n",
       "0    536365    85123A   WHITE HANGING HEART T-LIGHT HOLDER         6   \n",
       "1    536365     71053                  WHITE METAL LANTERN         6   \n",
       "2    536365    84406B       CREAM CUPID HEARTS COAT HANGER         8   \n",
       "3    536365    84029G  KNITTED UNION FLAG HOT WATER BOTTLE         6   \n",
       "4    536365    84029E       RED WOOLLY HOTTIE WHITE HEART.         6   \n",
       "\n",
       "          InvoiceDate  UnitPrice  CustomerID         Country  \n",
       "0 2010-12-01 08:26:00       2.55     17850.0  United Kingdom  \n",
       "1 2010-12-01 08:26:00       3.39     17850.0  United Kingdom  \n",
       "2 2010-12-01 08:26:00       2.75     17850.0  United Kingdom  \n",
       "3 2010-12-01 08:26:00       3.39     17850.0  United Kingdom  \n",
       "4 2010-12-01 08:26:00       3.39     17850.0  United Kingdom  "
      ]
     },
     "execution_count": 29,
     "metadata": {},
     "output_type": "execute_result"
    }
   ],
   "source": [
    "df.head()"
   ]
  },
  {
   "cell_type": "code",
   "execution_count": 30,
   "id": "389ef16d",
   "metadata": {},
   "outputs": [
    {
     "name": "stdout",
     "output_type": "stream",
     "text": [
      "<class 'pandas.core.frame.DataFrame'>\n",
      "RangeIndex: 541909 entries, 0 to 541908\n",
      "Data columns (total 8 columns):\n",
      " #   Column       Non-Null Count   Dtype         \n",
      "---  ------       --------------   -----         \n",
      " 0   InvoiceNo    541909 non-null  object        \n",
      " 1   StockCode    541909 non-null  object        \n",
      " 2   Description  540455 non-null  object        \n",
      " 3   Quantity     541909 non-null  int64         \n",
      " 4   InvoiceDate  541909 non-null  datetime64[ns]\n",
      " 5   UnitPrice    541909 non-null  float64       \n",
      " 6   CustomerID   406829 non-null  float64       \n",
      " 7   Country      541909 non-null  object        \n",
      "dtypes: datetime64[ns](1), float64(2), int64(1), object(4)\n",
      "memory usage: 33.1+ MB\n"
     ]
    }
   ],
   "source": [
    "df.info()"
   ]
  },
  {
   "cell_type": "code",
   "execution_count": 31,
   "id": "64e82280",
   "metadata": {},
   "outputs": [
    {
     "name": "stdout",
     "output_type": "stream",
     "text": [
      "Number of missing values in the dataset: 136534\n",
      "Percentage of missing values in the dataset: 3.149375633178264\n"
     ]
    }
   ],
   "source": [
    "print('Number of missing values in the dataset:', df.isnull().sum().sum())\n",
    "print('Percentage of missing values in the dataset:', df.isnull().sum().sum()*100/(df.shape[0]*df.shape[1]))"
   ]
  },
  {
   "cell_type": "code",
   "execution_count": 32,
   "id": "e59ceec4",
   "metadata": {},
   "outputs": [
    {
     "name": "stdout",
     "output_type": "stream",
     "text": [
      "Number of missing values in 'Description' column: 1454\n",
      "Percentage of missing values in 'Description' column: 0.2683107311375157\n"
     ]
    }
   ],
   "source": [
    "print(\"Number of missing values in 'Description' column:\", df['Description'].isnull().sum())\n",
    "print(\"Percentage of missing values in 'Description' column:\", df['Description'].isnull().sum()*100/df.shape[0])"
   ]
  },
  {
   "cell_type": "code",
   "execution_count": 33,
   "id": "7308e599",
   "metadata": {},
   "outputs": [
    {
     "name": "stdout",
     "output_type": "stream",
     "text": [
      "Number of missing values in 'CustomerID' column: 135080\n",
      "Percentage of missing values in 'CustomerID' column: 24.926694334288598\n"
     ]
    }
   ],
   "source": [
    "print(\"Number of missing values in 'CustomerID' column:\", df['CustomerID'].isnull().sum())\n",
    "print(\"Percentage of missing values in 'CustomerID' column:\", df['CustomerID'].isnull().sum()*100/df.shape[0])"
   ]
  },
  {
   "cell_type": "code",
   "execution_count": 34,
   "id": "2e663200",
   "metadata": {},
   "outputs": [
    {
     "data": {
      "text/plain": [
       "5268"
      ]
     },
     "execution_count": 34,
     "metadata": {},
     "output_type": "execute_result"
    }
   ],
   "source": [
    "# Check the number of duplicated values\n",
    "df.duplicated().sum().sum()"
   ]
  },
  {
   "cell_type": "code",
   "execution_count": 35,
   "id": "ec9199b7",
   "metadata": {},
   "outputs": [],
   "source": [
    "# Let's get the duplicated rows\n",
    "duplicates = df[df.duplicated()]"
   ]
  },
  {
   "cell_type": "code",
   "execution_count": 36,
   "id": "c545e585",
   "metadata": {},
   "outputs": [
    {
     "data": {
      "text/html": [
       "<div>\n",
       "<style scoped>\n",
       "    .dataframe tbody tr th:only-of-type {\n",
       "        vertical-align: middle;\n",
       "    }\n",
       "\n",
       "    .dataframe tbody tr th {\n",
       "        vertical-align: top;\n",
       "    }\n",
       "\n",
       "    .dataframe thead th {\n",
       "        text-align: right;\n",
       "    }\n",
       "</style>\n",
       "<table border=\"1\" class=\"dataframe\">\n",
       "  <thead>\n",
       "    <tr style=\"text-align: right;\">\n",
       "      <th></th>\n",
       "      <th>InvoiceNo</th>\n",
       "      <th>StockCode</th>\n",
       "      <th>Description</th>\n",
       "      <th>Quantity</th>\n",
       "      <th>InvoiceDate</th>\n",
       "      <th>UnitPrice</th>\n",
       "      <th>CustomerID</th>\n",
       "      <th>Country</th>\n",
       "    </tr>\n",
       "  </thead>\n",
       "  <tbody>\n",
       "    <tr>\n",
       "      <th>517</th>\n",
       "      <td>536409</td>\n",
       "      <td>21866</td>\n",
       "      <td>UNION JACK FLAG LUGGAGE TAG</td>\n",
       "      <td>1</td>\n",
       "      <td>2010-12-01 11:45:00</td>\n",
       "      <td>1.25</td>\n",
       "      <td>17908.0</td>\n",
       "      <td>United Kingdom</td>\n",
       "    </tr>\n",
       "    <tr>\n",
       "      <th>527</th>\n",
       "      <td>536409</td>\n",
       "      <td>22866</td>\n",
       "      <td>HAND WARMER SCOTTY DOG DESIGN</td>\n",
       "      <td>1</td>\n",
       "      <td>2010-12-01 11:45:00</td>\n",
       "      <td>2.10</td>\n",
       "      <td>17908.0</td>\n",
       "      <td>United Kingdom</td>\n",
       "    </tr>\n",
       "    <tr>\n",
       "      <th>537</th>\n",
       "      <td>536409</td>\n",
       "      <td>22900</td>\n",
       "      <td>SET 2 TEA TOWELS I LOVE LONDON</td>\n",
       "      <td>1</td>\n",
       "      <td>2010-12-01 11:45:00</td>\n",
       "      <td>2.95</td>\n",
       "      <td>17908.0</td>\n",
       "      <td>United Kingdom</td>\n",
       "    </tr>\n",
       "    <tr>\n",
       "      <th>539</th>\n",
       "      <td>536409</td>\n",
       "      <td>22111</td>\n",
       "      <td>SCOTTIE DOG HOT WATER BOTTLE</td>\n",
       "      <td>1</td>\n",
       "      <td>2010-12-01 11:45:00</td>\n",
       "      <td>4.95</td>\n",
       "      <td>17908.0</td>\n",
       "      <td>United Kingdom</td>\n",
       "    </tr>\n",
       "    <tr>\n",
       "      <th>555</th>\n",
       "      <td>536412</td>\n",
       "      <td>22327</td>\n",
       "      <td>ROUND SNACK BOXES SET OF 4 SKULLS</td>\n",
       "      <td>1</td>\n",
       "      <td>2010-12-01 11:49:00</td>\n",
       "      <td>2.95</td>\n",
       "      <td>17920.0</td>\n",
       "      <td>United Kingdom</td>\n",
       "    </tr>\n",
       "    <tr>\n",
       "      <th>587</th>\n",
       "      <td>536412</td>\n",
       "      <td>22273</td>\n",
       "      <td>FELTCRAFT DOLL MOLLY</td>\n",
       "      <td>1</td>\n",
       "      <td>2010-12-01 11:49:00</td>\n",
       "      <td>2.95</td>\n",
       "      <td>17920.0</td>\n",
       "      <td>United Kingdom</td>\n",
       "    </tr>\n",
       "    <tr>\n",
       "      <th>589</th>\n",
       "      <td>536412</td>\n",
       "      <td>22749</td>\n",
       "      <td>FELTCRAFT PRINCESS CHARLOTTE DOLL</td>\n",
       "      <td>1</td>\n",
       "      <td>2010-12-01 11:49:00</td>\n",
       "      <td>3.75</td>\n",
       "      <td>17920.0</td>\n",
       "      <td>United Kingdom</td>\n",
       "    </tr>\n",
       "    <tr>\n",
       "      <th>594</th>\n",
       "      <td>536412</td>\n",
       "      <td>22141</td>\n",
       "      <td>CHRISTMAS CRAFT TREE TOP ANGEL</td>\n",
       "      <td>1</td>\n",
       "      <td>2010-12-01 11:49:00</td>\n",
       "      <td>2.10</td>\n",
       "      <td>17920.0</td>\n",
       "      <td>United Kingdom</td>\n",
       "    </tr>\n",
       "    <tr>\n",
       "      <th>598</th>\n",
       "      <td>536412</td>\n",
       "      <td>21448</td>\n",
       "      <td>12 DAISY PEGS IN WOOD BOX</td>\n",
       "      <td>1</td>\n",
       "      <td>2010-12-01 11:49:00</td>\n",
       "      <td>1.65</td>\n",
       "      <td>17920.0</td>\n",
       "      <td>United Kingdom</td>\n",
       "    </tr>\n",
       "    <tr>\n",
       "      <th>600</th>\n",
       "      <td>536412</td>\n",
       "      <td>22569</td>\n",
       "      <td>FELTCRAFT CUSHION BUTTERFLY</td>\n",
       "      <td>2</td>\n",
       "      <td>2010-12-01 11:49:00</td>\n",
       "      <td>3.75</td>\n",
       "      <td>17920.0</td>\n",
       "      <td>United Kingdom</td>\n",
       "    </tr>\n",
       "    <tr>\n",
       "      <th>601</th>\n",
       "      <td>536412</td>\n",
       "      <td>21448</td>\n",
       "      <td>12 DAISY PEGS IN WOOD BOX</td>\n",
       "      <td>2</td>\n",
       "      <td>2010-12-01 11:49:00</td>\n",
       "      <td>1.65</td>\n",
       "      <td>17920.0</td>\n",
       "      <td>United Kingdom</td>\n",
       "    </tr>\n",
       "    <tr>\n",
       "      <th>604</th>\n",
       "      <td>536412</td>\n",
       "      <td>21448</td>\n",
       "      <td>12 DAISY PEGS IN WOOD BOX</td>\n",
       "      <td>2</td>\n",
       "      <td>2010-12-01 11:49:00</td>\n",
       "      <td>1.65</td>\n",
       "      <td>17920.0</td>\n",
       "      <td>United Kingdom</td>\n",
       "    </tr>\n",
       "    <tr>\n",
       "      <th>605</th>\n",
       "      <td>536412</td>\n",
       "      <td>22902</td>\n",
       "      <td>TOTE BAG I LOVE LONDON</td>\n",
       "      <td>7</td>\n",
       "      <td>2010-12-01 11:49:00</td>\n",
       "      <td>2.10</td>\n",
       "      <td>17920.0</td>\n",
       "      <td>United Kingdom</td>\n",
       "    </tr>\n",
       "    <tr>\n",
       "      <th>616</th>\n",
       "      <td>536412</td>\n",
       "      <td>21708</td>\n",
       "      <td>FOLDING UMBRELLA CREAM POLKADOT</td>\n",
       "      <td>1</td>\n",
       "      <td>2010-12-01 11:49:00</td>\n",
       "      <td>4.95</td>\n",
       "      <td>17920.0</td>\n",
       "      <td>United Kingdom</td>\n",
       "    </tr>\n",
       "    <tr>\n",
       "      <th>617</th>\n",
       "      <td>536412</td>\n",
       "      <td>22900</td>\n",
       "      <td>SET 2 TEA TOWELS I LOVE LONDON</td>\n",
       "      <td>2</td>\n",
       "      <td>2010-12-01 11:49:00</td>\n",
       "      <td>2.95</td>\n",
       "      <td>17920.0</td>\n",
       "      <td>United Kingdom</td>\n",
       "    </tr>\n",
       "    <tr>\n",
       "      <th>618</th>\n",
       "      <td>536412</td>\n",
       "      <td>21706</td>\n",
       "      <td>FOLDING UMBRELLA RED/WHITE POLKADOT</td>\n",
       "      <td>1</td>\n",
       "      <td>2010-12-01 11:49:00</td>\n",
       "      <td>4.95</td>\n",
       "      <td>17920.0</td>\n",
       "      <td>United Kingdom</td>\n",
       "    </tr>\n",
       "    <tr>\n",
       "      <th>620</th>\n",
       "      <td>536412</td>\n",
       "      <td>85184C</td>\n",
       "      <td>S/4 VALENTINE DECOUPAGE HEART BOX</td>\n",
       "      <td>1</td>\n",
       "      <td>2010-12-01 11:49:00</td>\n",
       "      <td>2.95</td>\n",
       "      <td>17920.0</td>\n",
       "      <td>United Kingdom</td>\n",
       "    </tr>\n",
       "    <tr>\n",
       "      <th>758</th>\n",
       "      <td>536446</td>\n",
       "      <td>21651</td>\n",
       "      <td>HANGING GLASS ETCHED TEALIGHT</td>\n",
       "      <td>6</td>\n",
       "      <td>2010-12-01 12:15:00</td>\n",
       "      <td>1.65</td>\n",
       "      <td>15983.0</td>\n",
       "      <td>United Kingdom</td>\n",
       "    </tr>\n",
       "    <tr>\n",
       "      <th>831</th>\n",
       "      <td>536464</td>\n",
       "      <td>22866</td>\n",
       "      <td>HAND WARMER SCOTTY DOG DESIGN</td>\n",
       "      <td>1</td>\n",
       "      <td>2010-12-01 12:23:00</td>\n",
       "      <td>2.10</td>\n",
       "      <td>17968.0</td>\n",
       "      <td>United Kingdom</td>\n",
       "    </tr>\n",
       "    <tr>\n",
       "      <th>835</th>\n",
       "      <td>536464</td>\n",
       "      <td>22945</td>\n",
       "      <td>CHRISTMAS METAL TAGS ASSORTED</td>\n",
       "      <td>6</td>\n",
       "      <td>2010-12-01 12:23:00</td>\n",
       "      <td>0.85</td>\n",
       "      <td>17968.0</td>\n",
       "      <td>United Kingdom</td>\n",
       "    </tr>\n",
       "  </tbody>\n",
       "</table>\n",
       "</div>"
      ],
      "text/plain": [
       "    InvoiceNo StockCode                          Description  Quantity  \\\n",
       "517    536409     21866          UNION JACK FLAG LUGGAGE TAG         1   \n",
       "527    536409     22866        HAND WARMER SCOTTY DOG DESIGN         1   \n",
       "537    536409     22900      SET 2 TEA TOWELS I LOVE LONDON          1   \n",
       "539    536409     22111         SCOTTIE DOG HOT WATER BOTTLE         1   \n",
       "555    536412     22327    ROUND SNACK BOXES SET OF 4 SKULLS         1   \n",
       "587    536412     22273                 FELTCRAFT DOLL MOLLY         1   \n",
       "589    536412     22749    FELTCRAFT PRINCESS CHARLOTTE DOLL         1   \n",
       "594    536412     22141       CHRISTMAS CRAFT TREE TOP ANGEL         1   \n",
       "598    536412     21448            12 DAISY PEGS IN WOOD BOX         1   \n",
       "600    536412     22569          FELTCRAFT CUSHION BUTTERFLY         2   \n",
       "601    536412     21448            12 DAISY PEGS IN WOOD BOX         2   \n",
       "604    536412     21448            12 DAISY PEGS IN WOOD BOX         2   \n",
       "605    536412     22902               TOTE BAG I LOVE LONDON         7   \n",
       "616    536412     21708      FOLDING UMBRELLA CREAM POLKADOT         1   \n",
       "617    536412     22900      SET 2 TEA TOWELS I LOVE LONDON          2   \n",
       "618    536412     21706  FOLDING UMBRELLA RED/WHITE POLKADOT         1   \n",
       "620    536412    85184C    S/4 VALENTINE DECOUPAGE HEART BOX         1   \n",
       "758    536446     21651        HANGING GLASS ETCHED TEALIGHT         6   \n",
       "831    536464     22866        HAND WARMER SCOTTY DOG DESIGN         1   \n",
       "835    536464     22945       CHRISTMAS METAL TAGS ASSORTED          6   \n",
       "\n",
       "            InvoiceDate  UnitPrice  CustomerID         Country  \n",
       "517 2010-12-01 11:45:00       1.25     17908.0  United Kingdom  \n",
       "527 2010-12-01 11:45:00       2.10     17908.0  United Kingdom  \n",
       "537 2010-12-01 11:45:00       2.95     17908.0  United Kingdom  \n",
       "539 2010-12-01 11:45:00       4.95     17908.0  United Kingdom  \n",
       "555 2010-12-01 11:49:00       2.95     17920.0  United Kingdom  \n",
       "587 2010-12-01 11:49:00       2.95     17920.0  United Kingdom  \n",
       "589 2010-12-01 11:49:00       3.75     17920.0  United Kingdom  \n",
       "594 2010-12-01 11:49:00       2.10     17920.0  United Kingdom  \n",
       "598 2010-12-01 11:49:00       1.65     17920.0  United Kingdom  \n",
       "600 2010-12-01 11:49:00       3.75     17920.0  United Kingdom  \n",
       "601 2010-12-01 11:49:00       1.65     17920.0  United Kingdom  \n",
       "604 2010-12-01 11:49:00       1.65     17920.0  United Kingdom  \n",
       "605 2010-12-01 11:49:00       2.10     17920.0  United Kingdom  \n",
       "616 2010-12-01 11:49:00       4.95     17920.0  United Kingdom  \n",
       "617 2010-12-01 11:49:00       2.95     17920.0  United Kingdom  \n",
       "618 2010-12-01 11:49:00       4.95     17920.0  United Kingdom  \n",
       "620 2010-12-01 11:49:00       2.95     17920.0  United Kingdom  \n",
       "758 2010-12-01 12:15:00       1.65     15983.0  United Kingdom  \n",
       "831 2010-12-01 12:23:00       2.10     17968.0  United Kingdom  \n",
       "835 2010-12-01 12:23:00       0.85     17968.0  United Kingdom  "
      ]
     },
     "execution_count": 36,
     "metadata": {},
     "output_type": "execute_result"
    }
   ],
   "source": [
    "duplicates[:20]"
   ]
  },
  {
   "cell_type": "code",
   "execution_count": 37,
   "id": "67f9de8f",
   "metadata": {},
   "outputs": [
    {
     "data": {
      "text/plain": [
       "4372"
      ]
     },
     "execution_count": 37,
     "metadata": {},
     "output_type": "execute_result"
    }
   ],
   "source": [
    "df['CustomerID'].nunique()"
   ]
  },
  {
   "cell_type": "code",
   "execution_count": 38,
   "id": "a308613f",
   "metadata": {},
   "outputs": [
    {
     "data": {
      "text/plain": [
       "25900"
      ]
     },
     "execution_count": 38,
     "metadata": {},
     "output_type": "execute_result"
    }
   ],
   "source": [
    "df['InvoiceNo'].nunique()"
   ]
  },
  {
   "cell_type": "code",
   "execution_count": 39,
   "id": "52619c19",
   "metadata": {},
   "outputs": [
    {
     "data": {
      "text/plain": [
       "Timestamp('2010-12-01 08:26:00')"
      ]
     },
     "execution_count": 39,
     "metadata": {},
     "output_type": "execute_result"
    }
   ],
   "source": [
    "df['InvoiceDate'].min()"
   ]
  },
  {
   "cell_type": "code",
   "execution_count": 40,
   "id": "a1fb21ca",
   "metadata": {},
   "outputs": [
    {
     "data": {
      "text/plain": [
       "Timestamp('2011-12-09 12:50:00')"
      ]
     },
     "execution_count": 40,
     "metadata": {},
     "output_type": "execute_result"
    }
   ],
   "source": [
    "df['InvoiceDate'].max()"
   ]
  },
  {
   "cell_type": "code",
   "execution_count": 41,
   "id": "48352870",
   "metadata": {},
   "outputs": [
    {
     "data": {
      "image/png": "[encoded data removed]",
      "text/plain": [
       "<Figure size 640x480 with 1 Axes>"
      ]
     },
     "metadata": {},
     "output_type": "display_data"
    }
   ],
   "source": [
    "df['Country'].value_counts().plot.bar(color='dodgerblue');"
   ]
  },
  {
   "cell_type": "code",
   "execution_count": 42,
   "id": "9af33fb7",
   "metadata": {},
   "outputs": [
    {
     "data": {
      "text/plain": [
       "38"
      ]
     },
     "execution_count": 42,
     "metadata": {},
     "output_type": "execute_result"
    }
   ],
   "source": [
    "df['Country'].nunique()"
   ]
  },
  {
   "cell_type": "code",
   "execution_count": 43,
   "id": "b5788327",
   "metadata": {},
   "outputs": [
    {
     "data": {
      "image/png": "[encoded data removed]",
      "text/plain": [
       "<Figure size 640x480 with 1 Axes>"
      ]
     },
     "metadata": {},
     "output_type": "display_data"
    }
   ],
   "source": [
    "# Let's look at the price distribution of the products\n",
    "\n",
    "plt.hist(data=df, x='UnitPrice', color='dodgerblue')\n",
    "plt.xlabel('Unit price', fontsize=14)\n",
    "plt.ylabel('Count', fontsize=14)\n",
    "plt.title(\"Unit price distribution\", fontsize=16);"
   ]
  },
  {
   "cell_type": "code",
   "execution_count": 44,
   "id": "fb08ba06",
   "metadata": {},
   "outputs": [
    {
     "data": {
      "text/plain": [
       "count    541909.000000\n",
       "mean          4.611114\n",
       "std          96.759853\n",
       "min      -11062.060000\n",
       "50%           2.080000\n",
       "99%          18.000000\n",
       "max       38970.000000\n",
       "Name: UnitPrice, dtype: float64"
      ]
     },
     "execution_count": 44,
     "metadata": {},
     "output_type": "execute_result"
    }
   ],
   "source": [
    "df['UnitPrice'].describe(percentiles=[.99])"
   ]
  },
  {
   "cell_type": "code",
   "execution_count": 45,
   "id": "7a4aba17",
   "metadata": {},
   "outputs": [
    {
     "data": {
      "image/png": "[encoded data removed]",
      "text/plain": [
       "<Figure size 640x480 with 1 Axes>"
      ]
     },
     "metadata": {},
     "output_type": "display_data"
    }
   ],
   "source": [
    "bins = np.arange(0, 21, 2)\n",
    "ticks = np.arange(0, 21, 2)\n",
    "plt.hist(data=df, x='UnitPrice', bins=bins, color='dodgerblue')\n",
    "plt.xticks(ticks, ticks)\n",
    "plt.xlabel('Unit price', fontsize=14)\n",
    "plt.ylabel('Count', fontsize=14)\n",
    "plt.title('Unit price distribution', fontsize=16);"
   ]
  },
  {
   "cell_type": "code",
   "execution_count": 46,
   "id": "27a521dd",
   "metadata": {},
   "outputs": [
    {
     "data": {
      "text/html": [
       "<div>\n",
       "<style scoped>\n",
       "    .dataframe tbody tr th:only-of-type {\n",
       "        vertical-align: middle;\n",
       "    }\n",
       "\n",
       "    .dataframe tbody tr th {\n",
       "        vertical-align: top;\n",
       "    }\n",
       "\n",
       "    .dataframe thead th {\n",
       "        text-align: right;\n",
       "    }\n",
       "</style>\n",
       "<table border=\"1\" class=\"dataframe\">\n",
       "  <thead>\n",
       "    <tr style=\"text-align: right;\">\n",
       "      <th></th>\n",
       "      <th>InvoiceNo</th>\n",
       "      <th>StockCode</th>\n",
       "      <th>Description</th>\n",
       "      <th>Quantity</th>\n",
       "      <th>InvoiceDate</th>\n",
       "      <th>UnitPrice</th>\n",
       "      <th>CustomerID</th>\n",
       "      <th>Country</th>\n",
       "    </tr>\n",
       "  </thead>\n",
       "  <tbody>\n",
       "    <tr>\n",
       "      <th>299983</th>\n",
       "      <td>A563186</td>\n",
       "      <td>B</td>\n",
       "      <td>Adjust bad debt</td>\n",
       "      <td>1</td>\n",
       "      <td>2011-08-12 14:51:00</td>\n",
       "      <td>-11062.06</td>\n",
       "      <td>NaN</td>\n",
       "      <td>United Kingdom</td>\n",
       "    </tr>\n",
       "    <tr>\n",
       "      <th>299984</th>\n",
       "      <td>A563187</td>\n",
       "      <td>B</td>\n",
       "      <td>Adjust bad debt</td>\n",
       "      <td>1</td>\n",
       "      <td>2011-08-12 14:52:00</td>\n",
       "      <td>-11062.06</td>\n",
       "      <td>NaN</td>\n",
       "      <td>United Kingdom</td>\n",
       "    </tr>\n",
       "  </tbody>\n",
       "</table>\n",
       "</div>"
      ],
      "text/plain": [
       "       InvoiceNo StockCode      Description  Quantity         InvoiceDate  \\\n",
       "299983   A563186         B  Adjust bad debt         1 2011-08-12 14:51:00   \n",
       "299984   A563187         B  Adjust bad debt         1 2011-08-12 14:52:00   \n",
       "\n",
       "        UnitPrice  CustomerID         Country  \n",
       "299983  -11062.06         NaN  United Kingdom  \n",
       "299984  -11062.06         NaN  United Kingdom  "
      ]
     },
     "execution_count": 46,
     "metadata": {},
     "output_type": "execute_result"
    }
   ],
   "source": [
    "df[df['UnitPrice'] < 0]"
   ]
  },
  {
   "cell_type": "code",
   "execution_count": 47,
   "id": "c058869b",
   "metadata": {},
   "outputs": [
    {
     "data": {
      "image/png": "[encoded data removed]",
      "text/plain": [
       "<Figure size 640x480 with 1 Axes>"
      ]
     },
     "metadata": {},
     "output_type": "display_data"
    }
   ],
   "source": [
    "# Let's look at the quantity of the products\n",
    "\n",
    "plt.hist(data=df, x='Quantity', color='dodgerblue')\n",
    "plt.xlabel('Quantity', fontsize=14)\n",
    "plt.ylabel('Count', fontsize=14)\n",
    "plt.title(\"Distribution of quantity of products\", fontsize=16);"
   ]
  },
  {
   "cell_type": "code",
   "execution_count": 48,
   "id": "25059c85",
   "metadata": {},
   "outputs": [
    {
     "data": {
      "text/plain": [
       "count    541909.000000\n",
       "mean          9.552250\n",
       "std         218.081158\n",
       "min      -80995.000000\n",
       "50%           3.000000\n",
       "99%         100.000000\n",
       "max       80995.000000\n",
       "Name: Quantity, dtype: float64"
      ]
     },
     "execution_count": 48,
     "metadata": {},
     "output_type": "execute_result"
    }
   ],
   "source": [
    "df['Quantity'].describe(percentiles=[.99])"
   ]
  },
  {
   "cell_type": "code",
   "execution_count": 49,
   "id": "9c95c148",
   "metadata": {},
   "outputs": [
    {
     "data": {
      "image/png": "[encoded data removed]",
      "text/plain": [
       "<Figure size 640x480 with 1 Axes>"
      ]
     },
     "metadata": {},
     "output_type": "display_data"
    }
   ],
   "source": [
    "bins = np.arange(0, 110, 10)\n",
    "ticks = np.arange(0, 110, 10)\n",
    "plt.hist(data=df, x='Quantity', bins=bins, color='dodgerblue')\n",
    "plt.xticks(ticks, ticks)\n",
    "plt.xlabel('Quantity', fontsize=14)\n",
    "plt.ylabel('Count', fontsize=14)\n",
    "plt.title('Distribution of quantity of products', fontsize=16);"
   ]
  },
  {
   "cell_type": "code",
   "execution_count": 50,
   "id": "c30852b7",
   "metadata": {},
   "outputs": [],
   "source": [
    "neg_quantity = df[df['Quantity']<0]"
   ]
  },
  {
   "cell_type": "code",
   "execution_count": 51,
   "id": "4f24ec24",
   "metadata": {},
   "outputs": [
    {
     "data": {
      "text/html": [
       "<div>\n",
       "<style scoped>\n",
       "    .dataframe tbody tr th:only-of-type {\n",
       "        vertical-align: middle;\n",
       "    }\n",
       "\n",
       "    .dataframe tbody tr th {\n",
       "        vertical-align: top;\n",
       "    }\n",
       "\n",
       "    .dataframe thead th {\n",
       "        text-align: right;\n",
       "    }\n",
       "</style>\n",
       "<table border=\"1\" class=\"dataframe\">\n",
       "  <thead>\n",
       "    <tr style=\"text-align: right;\">\n",
       "      <th></th>\n",
       "      <th>InvoiceNo</th>\n",
       "      <th>StockCode</th>\n",
       "      <th>Description</th>\n",
       "      <th>Quantity</th>\n",
       "      <th>InvoiceDate</th>\n",
       "      <th>UnitPrice</th>\n",
       "      <th>CustomerID</th>\n",
       "      <th>Country</th>\n",
       "    </tr>\n",
       "  </thead>\n",
       "  <tbody>\n",
       "    <tr>\n",
       "      <th>141</th>\n",
       "      <td>C536379</td>\n",
       "      <td>D</td>\n",
       "      <td>Discount</td>\n",
       "      <td>-1</td>\n",
       "      <td>2010-12-01 09:41:00</td>\n",
       "      <td>27.50</td>\n",
       "      <td>14527.0</td>\n",
       "      <td>United Kingdom</td>\n",
       "    </tr>\n",
       "    <tr>\n",
       "      <th>154</th>\n",
       "      <td>C536383</td>\n",
       "      <td>35004C</td>\n",
       "      <td>SET OF 3 COLOURED  FLYING DUCKS</td>\n",
       "      <td>-1</td>\n",
       "      <td>2010-12-01 09:49:00</td>\n",
       "      <td>4.65</td>\n",
       "      <td>15311.0</td>\n",
       "      <td>United Kingdom</td>\n",
       "    </tr>\n",
       "    <tr>\n",
       "      <th>235</th>\n",
       "      <td>C536391</td>\n",
       "      <td>22556</td>\n",
       "      <td>PLASTERS IN TIN CIRCUS PARADE</td>\n",
       "      <td>-12</td>\n",
       "      <td>2010-12-01 10:24:00</td>\n",
       "      <td>1.65</td>\n",
       "      <td>17548.0</td>\n",
       "      <td>United Kingdom</td>\n",
       "    </tr>\n",
       "    <tr>\n",
       "      <th>236</th>\n",
       "      <td>C536391</td>\n",
       "      <td>21984</td>\n",
       "      <td>PACK OF 12 PINK PAISLEY TISSUES</td>\n",
       "      <td>-24</td>\n",
       "      <td>2010-12-01 10:24:00</td>\n",
       "      <td>0.29</td>\n",
       "      <td>17548.0</td>\n",
       "      <td>United Kingdom</td>\n",
       "    </tr>\n",
       "    <tr>\n",
       "      <th>237</th>\n",
       "      <td>C536391</td>\n",
       "      <td>21983</td>\n",
       "      <td>PACK OF 12 BLUE PAISLEY TISSUES</td>\n",
       "      <td>-24</td>\n",
       "      <td>2010-12-01 10:24:00</td>\n",
       "      <td>0.29</td>\n",
       "      <td>17548.0</td>\n",
       "      <td>United Kingdom</td>\n",
       "    </tr>\n",
       "    <tr>\n",
       "      <th>238</th>\n",
       "      <td>C536391</td>\n",
       "      <td>21980</td>\n",
       "      <td>PACK OF 12 RED RETROSPOT TISSUES</td>\n",
       "      <td>-24</td>\n",
       "      <td>2010-12-01 10:24:00</td>\n",
       "      <td>0.29</td>\n",
       "      <td>17548.0</td>\n",
       "      <td>United Kingdom</td>\n",
       "    </tr>\n",
       "    <tr>\n",
       "      <th>239</th>\n",
       "      <td>C536391</td>\n",
       "      <td>21484</td>\n",
       "      <td>CHICK GREY HOT WATER BOTTLE</td>\n",
       "      <td>-12</td>\n",
       "      <td>2010-12-01 10:24:00</td>\n",
       "      <td>3.45</td>\n",
       "      <td>17548.0</td>\n",
       "      <td>United Kingdom</td>\n",
       "    </tr>\n",
       "    <tr>\n",
       "      <th>240</th>\n",
       "      <td>C536391</td>\n",
       "      <td>22557</td>\n",
       "      <td>PLASTERS IN TIN VINTAGE PAISLEY</td>\n",
       "      <td>-12</td>\n",
       "      <td>2010-12-01 10:24:00</td>\n",
       "      <td>1.65</td>\n",
       "      <td>17548.0</td>\n",
       "      <td>United Kingdom</td>\n",
       "    </tr>\n",
       "    <tr>\n",
       "      <th>241</th>\n",
       "      <td>C536391</td>\n",
       "      <td>22553</td>\n",
       "      <td>PLASTERS IN TIN SKULLS</td>\n",
       "      <td>-24</td>\n",
       "      <td>2010-12-01 10:24:00</td>\n",
       "      <td>1.65</td>\n",
       "      <td>17548.0</td>\n",
       "      <td>United Kingdom</td>\n",
       "    </tr>\n",
       "    <tr>\n",
       "      <th>939</th>\n",
       "      <td>C536506</td>\n",
       "      <td>22960</td>\n",
       "      <td>JAM MAKING SET WITH JARS</td>\n",
       "      <td>-6</td>\n",
       "      <td>2010-12-01 12:38:00</td>\n",
       "      <td>4.25</td>\n",
       "      <td>17897.0</td>\n",
       "      <td>United Kingdom</td>\n",
       "    </tr>\n",
       "  </tbody>\n",
       "</table>\n",
       "</div>"
      ],
      "text/plain": [
       "    InvoiceNo StockCode                        Description  Quantity  \\\n",
       "141   C536379         D                           Discount        -1   \n",
       "154   C536383    35004C    SET OF 3 COLOURED  FLYING DUCKS        -1   \n",
       "235   C536391     22556     PLASTERS IN TIN CIRCUS PARADE        -12   \n",
       "236   C536391     21984   PACK OF 12 PINK PAISLEY TISSUES        -24   \n",
       "237   C536391     21983   PACK OF 12 BLUE PAISLEY TISSUES        -24   \n",
       "238   C536391     21980  PACK OF 12 RED RETROSPOT TISSUES        -24   \n",
       "239   C536391     21484        CHICK GREY HOT WATER BOTTLE       -12   \n",
       "240   C536391     22557   PLASTERS IN TIN VINTAGE PAISLEY        -12   \n",
       "241   C536391     22553             PLASTERS IN TIN SKULLS       -24   \n",
       "939   C536506     22960           JAM MAKING SET WITH JARS        -6   \n",
       "\n",
       "            InvoiceDate  UnitPrice  CustomerID         Country  \n",
       "141 2010-12-01 09:41:00      27.50     14527.0  United Kingdom  \n",
       "154 2010-12-01 09:49:00       4.65     15311.0  United Kingdom  \n",
       "235 2010-12-01 10:24:00       1.65     17548.0  United Kingdom  \n",
       "236 2010-12-01 10:24:00       0.29     17548.0  United Kingdom  \n",
       "237 2010-12-01 10:24:00       0.29     17548.0  United Kingdom  \n",
       "238 2010-12-01 10:24:00       0.29     17548.0  United Kingdom  \n",
       "239 2010-12-01 10:24:00       3.45     17548.0  United Kingdom  \n",
       "240 2010-12-01 10:24:00       1.65     17548.0  United Kingdom  \n",
       "241 2010-12-01 10:24:00       1.65     17548.0  United Kingdom  \n",
       "939 2010-12-01 12:38:00       4.25     17897.0  United Kingdom  "
      ]
     },
     "execution_count": 51,
     "metadata": {},
     "output_type": "execute_result"
    }
   ],
   "source": [
    "neg_quantity.head(10)"
   ]
  },
  {
   "cell_type": "code",
   "execution_count": 52,
   "id": "839a29e2",
   "metadata": {},
   "outputs": [
    {
     "name": "stdout",
     "output_type": "stream",
     "text": [
      "The percentage of records with negative Quantity: 1.9604767590130445\n"
     ]
    }
   ],
   "source": [
    "print(\"The percentage of records with negative Quantity:\", neg_quantity.shape[0]*100/df.shape[0])"
   ]
  },
  {
   "cell_type": "code",
   "execution_count": 53,
   "id": "d5c22911",
   "metadata": {},
   "outputs": [],
   "source": [
    "df.dropna(subset=['CustomerID'], inplace=True)"
   ]
  },
  {
   "cell_type": "code",
   "execution_count": 54,
   "id": "e3aea8fa",
   "metadata": {},
   "outputs": [
    {
     "data": {
      "text/plain": [
       "0"
      ]
     },
     "execution_count": 54,
     "metadata": {},
     "output_type": "execute_result"
    }
   ],
   "source": [
    "# Let's check NULL records in the CustomerId column\n",
    "df['CustomerID'].isnull().sum()"
   ]
  },
  {
   "cell_type": "code",
   "execution_count": 55,
   "id": "3420e3e6",
   "metadata": {},
   "outputs": [
    {
     "name": "stdout",
     "output_type": "stream",
     "text": [
      "<class 'pandas.core.frame.DataFrame'>\n",
      "Index: 406829 entries, 0 to 541908\n",
      "Data columns (total 8 columns):\n",
      " #   Column       Non-Null Count   Dtype         \n",
      "---  ------       --------------   -----         \n",
      " 0   InvoiceNo    406829 non-null  object        \n",
      " 1   StockCode    406829 non-null  object        \n",
      " 2   Description  406829 non-null  object        \n",
      " 3   Quantity     406829 non-null  int64         \n",
      " 4   InvoiceDate  406829 non-null  datetime64[ns]\n",
      " 5   UnitPrice    406829 non-null  float64       \n",
      " 6   CustomerID   406829 non-null  float64       \n",
      " 7   Country      406829 non-null  object        \n",
      "dtypes: datetime64[ns](1), float64(2), int64(1), object(4)\n",
      "memory usage: 27.9+ MB\n"
     ]
    }
   ],
   "source": [
    "df.info()"
   ]
  },
  {
   "cell_type": "code",
   "execution_count": 56,
   "id": "a421b71e",
   "metadata": {},
   "outputs": [],
   "source": [
    "df = df.loc[df['Quantity'] > 0]"
   ]
  },
  {
   "cell_type": "code",
   "execution_count": 57,
   "id": "5a598a12",
   "metadata": {},
   "outputs": [
    {
     "data": {
      "text/html": [
       "<div>\n",
       "<style scoped>\n",
       "    .dataframe tbody tr th:only-of-type {\n",
       "        vertical-align: middle;\n",
       "    }\n",
       "\n",
       "    .dataframe tbody tr th {\n",
       "        vertical-align: top;\n",
       "    }\n",
       "\n",
       "    .dataframe thead th {\n",
       "        text-align: right;\n",
       "    }\n",
       "</style>\n",
       "<table border=\"1\" class=\"dataframe\">\n",
       "  <thead>\n",
       "    <tr style=\"text-align: right;\">\n",
       "      <th></th>\n",
       "      <th>InvoiceNo</th>\n",
       "      <th>StockCode</th>\n",
       "      <th>Description</th>\n",
       "      <th>Quantity</th>\n",
       "      <th>InvoiceDate</th>\n",
       "      <th>UnitPrice</th>\n",
       "      <th>CustomerID</th>\n",
       "      <th>Country</th>\n",
       "    </tr>\n",
       "  </thead>\n",
       "  <tbody>\n",
       "  </tbody>\n",
       "</table>\n",
       "</div>"
      ],
      "text/plain": [
       "Empty DataFrame\n",
       "Columns: [InvoiceNo, StockCode, Description, Quantity, InvoiceDate, UnitPrice, CustomerID, Country]\n",
       "Index: []"
      ]
     },
     "execution_count": 57,
     "metadata": {},
     "output_type": "execute_result"
    }
   ],
   "source": [
    "# Let's check negative records\n",
    "df[df['Quantity'] < 0]"
   ]
  },
  {
   "cell_type": "code",
   "execution_count": 58,
   "id": "6f5b3443",
   "metadata": {},
   "outputs": [],
   "source": [
    "df = df.loc[df['UnitPrice'] > 0]"
   ]
  },
  {
   "cell_type": "code",
   "execution_count": 59,
   "id": "9e843329",
   "metadata": {},
   "outputs": [
    {
     "data": {
      "text/html": [
       "<div>\n",
       "<style scoped>\n",
       "    .dataframe tbody tr th:only-of-type {\n",
       "        vertical-align: middle;\n",
       "    }\n",
       "\n",
       "    .dataframe tbody tr th {\n",
       "        vertical-align: top;\n",
       "    }\n",
       "\n",
       "    .dataframe thead th {\n",
       "        text-align: right;\n",
       "    }\n",
       "</style>\n",
       "<table border=\"1\" class=\"dataframe\">\n",
       "  <thead>\n",
       "    <tr style=\"text-align: right;\">\n",
       "      <th></th>\n",
       "      <th>InvoiceNo</th>\n",
       "      <th>StockCode</th>\n",
       "      <th>Description</th>\n",
       "      <th>Quantity</th>\n",
       "      <th>InvoiceDate</th>\n",
       "      <th>UnitPrice</th>\n",
       "      <th>CustomerID</th>\n",
       "      <th>Country</th>\n",
       "    </tr>\n",
       "  </thead>\n",
       "  <tbody>\n",
       "  </tbody>\n",
       "</table>\n",
       "</div>"
      ],
      "text/plain": [
       "Empty DataFrame\n",
       "Columns: [InvoiceNo, StockCode, Description, Quantity, InvoiceDate, UnitPrice, CustomerID, Country]\n",
       "Index: []"
      ]
     },
     "execution_count": 59,
     "metadata": {},
     "output_type": "execute_result"
    }
   ],
   "source": [
    "# Let's check negative records\n",
    "df[df['UnitPrice'] < 0]"
   ]
  },
  {
   "cell_type": "code",
   "execution_count": 60,
   "id": "15cfe391",
   "metadata": {},
   "outputs": [],
   "source": [
    "df = df.loc[df['InvoiceDate'] < '2011-12-01']"
   ]
  },
  {
   "cell_type": "code",
   "execution_count": 61,
   "id": "b387f591",
   "metadata": {},
   "outputs": [
    {
     "data": {
      "text/plain": [
       "(Timestamp('2010-12-01 08:26:00'), Timestamp('2011-11-30 17:37:00'))"
      ]
     },
     "execution_count": 61,
     "metadata": {},
     "output_type": "execute_result"
    }
   ],
   "source": [
    "# Let's check the time period\n",
    "df['InvoiceDate'].min(), df['InvoiceDate'].max()"
   ]
  },
  {
   "cell_type": "code",
   "execution_count": 62,
   "id": "ee68ac49",
   "metadata": {},
   "outputs": [],
   "source": [
    "df['Sales'] = df['Quantity'] * df['UnitPrice']"
   ]
  },
  {
   "cell_type": "code",
   "execution_count": 63,
   "id": "85bd52e2",
   "metadata": {},
   "outputs": [],
   "source": [
    "df_orders = df.groupby(['CustomerID', 'InvoiceNo']).agg({'Sales': sum, 'InvoiceDate': max})"
   ]
  },
  {
   "cell_type": "code",
   "execution_count": 64,
   "id": "5bbe4270",
   "metadata": {},
   "outputs": [
    {
     "data": {
      "text/html": [
       "<div>\n",
       "<style scoped>\n",
       "    .dataframe tbody tr th:only-of-type {\n",
       "        vertical-align: middle;\n",
       "    }\n",
       "\n",
       "    .dataframe tbody tr th {\n",
       "        vertical-align: top;\n",
       "    }\n",
       "\n",
       "    .dataframe thead th {\n",
       "        text-align: right;\n",
       "    }\n",
       "</style>\n",
       "<table border=\"1\" class=\"dataframe\">\n",
       "  <thead>\n",
       "    <tr style=\"text-align: right;\">\n",
       "      <th></th>\n",
       "      <th></th>\n",
       "      <th>Sales</th>\n",
       "      <th>InvoiceDate</th>\n",
       "    </tr>\n",
       "    <tr>\n",
       "      <th>CustomerID</th>\n",
       "      <th>InvoiceNo</th>\n",
       "      <th></th>\n",
       "      <th></th>\n",
       "    </tr>\n",
       "  </thead>\n",
       "  <tbody>\n",
       "    <tr>\n",
       "      <th>12346.0</th>\n",
       "      <th>541431</th>\n",
       "      <td>77183.60</td>\n",
       "      <td>2011-01-18 10:01:00</td>\n",
       "    </tr>\n",
       "    <tr>\n",
       "      <th rowspan=\"6\" valign=\"top\">12347.0</th>\n",
       "      <th>537626</th>\n",
       "      <td>711.79</td>\n",
       "      <td>2010-12-07 14:57:00</td>\n",
       "    </tr>\n",
       "    <tr>\n",
       "      <th>542237</th>\n",
       "      <td>475.39</td>\n",
       "      <td>2011-01-26 14:30:00</td>\n",
       "    </tr>\n",
       "    <tr>\n",
       "      <th>549222</th>\n",
       "      <td>636.25</td>\n",
       "      <td>2011-04-07 10:43:00</td>\n",
       "    </tr>\n",
       "    <tr>\n",
       "      <th>556201</th>\n",
       "      <td>382.52</td>\n",
       "      <td>2011-06-09 13:01:00</td>\n",
       "    </tr>\n",
       "    <tr>\n",
       "      <th>562032</th>\n",
       "      <td>584.91</td>\n",
       "      <td>2011-08-02 08:48:00</td>\n",
       "    </tr>\n",
       "    <tr>\n",
       "      <th>573511</th>\n",
       "      <td>1294.32</td>\n",
       "      <td>2011-10-31 12:25:00</td>\n",
       "    </tr>\n",
       "    <tr>\n",
       "      <th>12348.0</th>\n",
       "      <th>539318</th>\n",
       "      <td>892.80</td>\n",
       "      <td>2010-12-16 19:09:00</td>\n",
       "    </tr>\n",
       "  </tbody>\n",
       "</table>\n",
       "</div>"
      ],
      "text/plain": [
       "                         Sales         InvoiceDate\n",
       "CustomerID InvoiceNo                              \n",
       "12346.0    541431     77183.60 2011-01-18 10:01:00\n",
       "12347.0    537626       711.79 2010-12-07 14:57:00\n",
       "           542237       475.39 2011-01-26 14:30:00\n",
       "           549222       636.25 2011-04-07 10:43:00\n",
       "           556201       382.52 2011-06-09 13:01:00\n",
       "           562032       584.91 2011-08-02 08:48:00\n",
       "           573511      1294.32 2011-10-31 12:25:00\n",
       "12348.0    539318       892.80 2010-12-16 19:09:00"
      ]
     },
     "execution_count": 64,
     "metadata": {},
     "output_type": "execute_result"
    }
   ],
   "source": [
    "df_orders.head(8)"
   ]
  },
  {
   "cell_type": "code",
   "execution_count": 65,
   "id": "1cb74c54",
   "metadata": {},
   "outputs": [
    {
     "data": {
      "text/plain": [
       "(Timestamp('2011-11-30 17:37:00'), Timestamp('2010-12-01 08:26:00'))"
      ]
     },
     "execution_count": 65,
     "metadata": {},
     "output_type": "execute_result"
    }
   ],
   "source": [
    "df_orders['InvoiceDate'].max(), df_orders['InvoiceDate'].min()"
   ]
  },
  {
   "cell_type": "code",
   "execution_count": 66,
   "id": "30a0faa9",
   "metadata": {},
   "outputs": [],
   "source": [
    "def groupby_mean(x):\n",
    "    return x.mean()\n",
    "\n",
    "def groupby_count(x):\n",
    "    return x.count()\n",
    "\n",
    "def purchase_duration(x):\n",
    "    return (x.max() - x.min()).days\n",
    "\n",
    "def avg_frequency(x):\n",
    "    return (x.max() - x.min()).days / x.count()\n",
    "\n",
    "groupby_mean.__name__ = 'avg'\n",
    "groupby_count.__name__ = 'count'\n",
    "purchase_duration.__name__ = 'purchase_duration'\n",
    "avg_frequency.__name__ = 'purchase_frequency'"
   ]
  },
  {
   "cell_type": "code",
   "execution_count": 67,
   "id": "b7a9cc2d",
   "metadata": {},
   "outputs": [],
   "source": [
    "df_summary = df_orders.reset_index().groupby('CustomerID').agg({\n",
    "            'Sales': [min, max, sum, groupby_mean, groupby_count],\n",
    "            'InvoiceDate': [min, max, purchase_duration, avg_frequency]\n",
    "             })"
   ]
  },
  {
   "cell_type": "code",
   "execution_count": 68,
   "id": "84dbfc0c",
   "metadata": {},
   "outputs": [
    {
     "data": {
      "text/html": [
       "<div>\n",
       "<style scoped>\n",
       "    .dataframe tbody tr th:only-of-type {\n",
       "        vertical-align: middle;\n",
       "    }\n",
       "\n",
       "    .dataframe tbody tr th {\n",
       "        vertical-align: top;\n",
       "    }\n",
       "\n",
       "    .dataframe thead tr th {\n",
       "        text-align: left;\n",
       "    }\n",
       "\n",
       "    .dataframe thead tr:last-of-type th {\n",
       "        text-align: right;\n",
       "    }\n",
       "</style>\n",
       "<table border=\"1\" class=\"dataframe\">\n",
       "  <thead>\n",
       "    <tr>\n",
       "      <th></th>\n",
       "      <th colspan=\"5\" halign=\"left\">Sales</th>\n",
       "      <th colspan=\"4\" halign=\"left\">InvoiceDate</th>\n",
       "    </tr>\n",
       "    <tr>\n",
       "      <th></th>\n",
       "      <th>min</th>\n",
       "      <th>max</th>\n",
       "      <th>sum</th>\n",
       "      <th>avg</th>\n",
       "      <th>count</th>\n",
       "      <th>min</th>\n",
       "      <th>max</th>\n",
       "      <th>purchase_duration</th>\n",
       "      <th>purchase_frequency</th>\n",
       "    </tr>\n",
       "    <tr>\n",
       "      <th>CustomerID</th>\n",
       "      <th></th>\n",
       "      <th></th>\n",
       "      <th></th>\n",
       "      <th></th>\n",
       "      <th></th>\n",
       "      <th></th>\n",
       "      <th></th>\n",
       "      <th></th>\n",
       "      <th></th>\n",
       "    </tr>\n",
       "  </thead>\n",
       "  <tbody>\n",
       "    <tr>\n",
       "      <th>12346.0</th>\n",
       "      <td>77183.60</td>\n",
       "      <td>77183.60</td>\n",
       "      <td>77183.60</td>\n",
       "      <td>77183.600000</td>\n",
       "      <td>1</td>\n",
       "      <td>2011-01-18 10:01:00</td>\n",
       "      <td>2011-01-18 10:01:00</td>\n",
       "      <td>0</td>\n",
       "      <td>0.0</td>\n",
       "    </tr>\n",
       "    <tr>\n",
       "      <th>12347.0</th>\n",
       "      <td>382.52</td>\n",
       "      <td>1294.32</td>\n",
       "      <td>4085.18</td>\n",
       "      <td>680.863333</td>\n",
       "      <td>6</td>\n",
       "      <td>2010-12-07 14:57:00</td>\n",
       "      <td>2011-10-31 12:25:00</td>\n",
       "      <td>327</td>\n",
       "      <td>54.5</td>\n",
       "    </tr>\n",
       "    <tr>\n",
       "      <th>12348.0</th>\n",
       "      <td>227.44</td>\n",
       "      <td>892.80</td>\n",
       "      <td>1797.24</td>\n",
       "      <td>449.310000</td>\n",
       "      <td>4</td>\n",
       "      <td>2010-12-16 19:09:00</td>\n",
       "      <td>2011-09-25 13:13:00</td>\n",
       "      <td>282</td>\n",
       "      <td>70.5</td>\n",
       "    </tr>\n",
       "    <tr>\n",
       "      <th>12349.0</th>\n",
       "      <td>1757.55</td>\n",
       "      <td>1757.55</td>\n",
       "      <td>1757.55</td>\n",
       "      <td>1757.550000</td>\n",
       "      <td>1</td>\n",
       "      <td>2011-11-21 09:51:00</td>\n",
       "      <td>2011-11-21 09:51:00</td>\n",
       "      <td>0</td>\n",
       "      <td>0.0</td>\n",
       "    </tr>\n",
       "    <tr>\n",
       "      <th>12350.0</th>\n",
       "      <td>334.40</td>\n",
       "      <td>334.40</td>\n",
       "      <td>334.40</td>\n",
       "      <td>334.400000</td>\n",
       "      <td>1</td>\n",
       "      <td>2011-02-02 16:01:00</td>\n",
       "      <td>2011-02-02 16:01:00</td>\n",
       "      <td>0</td>\n",
       "      <td>0.0</td>\n",
       "    </tr>\n",
       "  </tbody>\n",
       "</table>\n",
       "</div>"
      ],
      "text/plain": [
       "               Sales                                          \\\n",
       "                 min       max       sum           avg count   \n",
       "CustomerID                                                     \n",
       "12346.0     77183.60  77183.60  77183.60  77183.600000     1   \n",
       "12347.0       382.52   1294.32   4085.18    680.863333     6   \n",
       "12348.0       227.44    892.80   1797.24    449.310000     4   \n",
       "12349.0      1757.55   1757.55   1757.55   1757.550000     1   \n",
       "12350.0       334.40    334.40    334.40    334.400000     1   \n",
       "\n",
       "                   InvoiceDate                                        \\\n",
       "                           min                 max purchase_duration   \n",
       "CustomerID                                                             \n",
       "12346.0    2011-01-18 10:01:00 2011-01-18 10:01:00                 0   \n",
       "12347.0    2010-12-07 14:57:00 2011-10-31 12:25:00               327   \n",
       "12348.0    2010-12-16 19:09:00 2011-09-25 13:13:00               282   \n",
       "12349.0    2011-11-21 09:51:00 2011-11-21 09:51:00                 0   \n",
       "12350.0    2011-02-02 16:01:00 2011-02-02 16:01:00                 0   \n",
       "\n",
       "                               \n",
       "           purchase_frequency  \n",
       "CustomerID                     \n",
       "12346.0                   0.0  \n",
       "12347.0                  54.5  \n",
       "12348.0                  70.5  \n",
       "12349.0                   0.0  \n",
       "12350.0                   0.0  "
      ]
     },
     "execution_count": 68,
     "metadata": {},
     "output_type": "execute_result"
    }
   ],
   "source": [
    "df_summary.head()"
   ]
  },
  {
   "cell_type": "code",
   "execution_count": 69,
   "id": "8d3cf98a",
   "metadata": {},
   "outputs": [],
   "source": [
    "df_summary.columns = ['_'.join(col).lower() for col in df_summary.columns]"
   ]
  },
  {
   "cell_type": "code",
   "execution_count": 70,
   "id": "40905793",
   "metadata": {},
   "outputs": [
    {
     "data": {
      "text/html": [
       "<div>\n",
       "<style scoped>\n",
       "    .dataframe tbody tr th:only-of-type {\n",
       "        vertical-align: middle;\n",
       "    }\n",
       "\n",
       "    .dataframe tbody tr th {\n",
       "        vertical-align: top;\n",
       "    }\n",
       "\n",
       "    .dataframe thead th {\n",
       "        text-align: right;\n",
       "    }\n",
       "</style>\n",
       "<table border=\"1\" class=\"dataframe\">\n",
       "  <thead>\n",
       "    <tr style=\"text-align: right;\">\n",
       "      <th></th>\n",
       "      <th>sales_min</th>\n",
       "      <th>sales_max</th>\n",
       "      <th>sales_sum</th>\n",
       "      <th>sales_avg</th>\n",
       "      <th>sales_count</th>\n",
       "      <th>invoicedate_min</th>\n",
       "      <th>invoicedate_max</th>\n",
       "      <th>invoicedate_purchase_duration</th>\n",
       "      <th>invoicedate_purchase_frequency</th>\n",
       "    </tr>\n",
       "    <tr>\n",
       "      <th>CustomerID</th>\n",
       "      <th></th>\n",
       "      <th></th>\n",
       "      <th></th>\n",
       "      <th></th>\n",
       "      <th></th>\n",
       "      <th></th>\n",
       "      <th></th>\n",
       "      <th></th>\n",
       "      <th></th>\n",
       "    </tr>\n",
       "  </thead>\n",
       "  <tbody>\n",
       "    <tr>\n",
       "      <th>12346.0</th>\n",
       "      <td>77183.60</td>\n",
       "      <td>77183.60</td>\n",
       "      <td>77183.60</td>\n",
       "      <td>77183.600000</td>\n",
       "      <td>1</td>\n",
       "      <td>2011-01-18 10:01:00</td>\n",
       "      <td>2011-01-18 10:01:00</td>\n",
       "      <td>0</td>\n",
       "      <td>0.000000</td>\n",
       "    </tr>\n",
       "    <tr>\n",
       "      <th>12347.0</th>\n",
       "      <td>382.52</td>\n",
       "      <td>1294.32</td>\n",
       "      <td>4085.18</td>\n",
       "      <td>680.863333</td>\n",
       "      <td>6</td>\n",
       "      <td>2010-12-07 14:57:00</td>\n",
       "      <td>2011-10-31 12:25:00</td>\n",
       "      <td>327</td>\n",
       "      <td>54.500000</td>\n",
       "    </tr>\n",
       "    <tr>\n",
       "      <th>12348.0</th>\n",
       "      <td>227.44</td>\n",
       "      <td>892.80</td>\n",
       "      <td>1797.24</td>\n",
       "      <td>449.310000</td>\n",
       "      <td>4</td>\n",
       "      <td>2010-12-16 19:09:00</td>\n",
       "      <td>2011-09-25 13:13:00</td>\n",
       "      <td>282</td>\n",
       "      <td>70.500000</td>\n",
       "    </tr>\n",
       "    <tr>\n",
       "      <th>12349.0</th>\n",
       "      <td>1757.55</td>\n",
       "      <td>1757.55</td>\n",
       "      <td>1757.55</td>\n",
       "      <td>1757.550000</td>\n",
       "      <td>1</td>\n",
       "      <td>2011-11-21 09:51:00</td>\n",
       "      <td>2011-11-21 09:51:00</td>\n",
       "      <td>0</td>\n",
       "      <td>0.000000</td>\n",
       "    </tr>\n",
       "    <tr>\n",
       "      <th>12350.0</th>\n",
       "      <td>334.40</td>\n",
       "      <td>334.40</td>\n",
       "      <td>334.40</td>\n",
       "      <td>334.400000</td>\n",
       "      <td>1</td>\n",
       "      <td>2011-02-02 16:01:00</td>\n",
       "      <td>2011-02-02 16:01:00</td>\n",
       "      <td>0</td>\n",
       "      <td>0.000000</td>\n",
       "    </tr>\n",
       "    <tr>\n",
       "      <th>...</th>\n",
       "      <td>...</td>\n",
       "      <td>...</td>\n",
       "      <td>...</td>\n",
       "      <td>...</td>\n",
       "      <td>...</td>\n",
       "      <td>...</td>\n",
       "      <td>...</td>\n",
       "      <td>...</td>\n",
       "      <td>...</td>\n",
       "    </tr>\n",
       "    <tr>\n",
       "      <th>18280.0</th>\n",
       "      <td>180.60</td>\n",
       "      <td>180.60</td>\n",
       "      <td>180.60</td>\n",
       "      <td>180.600000</td>\n",
       "      <td>1</td>\n",
       "      <td>2011-03-07 09:52:00</td>\n",
       "      <td>2011-03-07 09:52:00</td>\n",
       "      <td>0</td>\n",
       "      <td>0.000000</td>\n",
       "    </tr>\n",
       "    <tr>\n",
       "      <th>18281.0</th>\n",
       "      <td>80.82</td>\n",
       "      <td>80.82</td>\n",
       "      <td>80.82</td>\n",
       "      <td>80.820000</td>\n",
       "      <td>1</td>\n",
       "      <td>2011-06-12 10:53:00</td>\n",
       "      <td>2011-06-12 10:53:00</td>\n",
       "      <td>0</td>\n",
       "      <td>0.000000</td>\n",
       "    </tr>\n",
       "    <tr>\n",
       "      <th>18282.0</th>\n",
       "      <td>100.21</td>\n",
       "      <td>100.21</td>\n",
       "      <td>100.21</td>\n",
       "      <td>100.210000</td>\n",
       "      <td>1</td>\n",
       "      <td>2011-08-05 13:35:00</td>\n",
       "      <td>2011-08-05 13:35:00</td>\n",
       "      <td>0</td>\n",
       "      <td>0.000000</td>\n",
       "    </tr>\n",
       "    <tr>\n",
       "      <th>18283.0</th>\n",
       "      <td>1.95</td>\n",
       "      <td>313.65</td>\n",
       "      <td>1886.88</td>\n",
       "      <td>125.792000</td>\n",
       "      <td>15</td>\n",
       "      <td>2011-01-06 14:14:00</td>\n",
       "      <td>2011-11-30 12:59:00</td>\n",
       "      <td>327</td>\n",
       "      <td>21.800000</td>\n",
       "    </tr>\n",
       "    <tr>\n",
       "      <th>18287.0</th>\n",
       "      <td>70.68</td>\n",
       "      <td>1001.32</td>\n",
       "      <td>1837.28</td>\n",
       "      <td>612.426667</td>\n",
       "      <td>3</td>\n",
       "      <td>2011-05-22 10:39:00</td>\n",
       "      <td>2011-10-28 09:29:00</td>\n",
       "      <td>158</td>\n",
       "      <td>52.666667</td>\n",
       "    </tr>\n",
       "  </tbody>\n",
       "</table>\n",
       "<p>4297 rows × 9 columns</p>\n",
       "</div>"
      ],
      "text/plain": [
       "            sales_min  sales_max  sales_sum     sales_avg  sales_count  \\\n",
       "CustomerID                                                               \n",
       "12346.0      77183.60   77183.60   77183.60  77183.600000            1   \n",
       "12347.0        382.52    1294.32    4085.18    680.863333            6   \n",
       "12348.0        227.44     892.80    1797.24    449.310000            4   \n",
       "12349.0       1757.55    1757.55    1757.55   1757.550000            1   \n",
       "12350.0        334.40     334.40     334.40    334.400000            1   \n",
       "...               ...        ...        ...           ...          ...   \n",
       "18280.0        180.60     180.60     180.60    180.600000            1   \n",
       "18281.0         80.82      80.82      80.82     80.820000            1   \n",
       "18282.0        100.21     100.21     100.21    100.210000            1   \n",
       "18283.0          1.95     313.65    1886.88    125.792000           15   \n",
       "18287.0         70.68    1001.32    1837.28    612.426667            3   \n",
       "\n",
       "               invoicedate_min     invoicedate_max  \\\n",
       "CustomerID                                           \n",
       "12346.0    2011-01-18 10:01:00 2011-01-18 10:01:00   \n",
       "12347.0    2010-12-07 14:57:00 2011-10-31 12:25:00   \n",
       "12348.0    2010-12-16 19:09:00 2011-09-25 13:13:00   \n",
       "12349.0    2011-11-21 09:51:00 2011-11-21 09:51:00   \n",
       "12350.0    2011-02-02 16:01:00 2011-02-02 16:01:00   \n",
       "...                        ...                 ...   \n",
       "18280.0    2011-03-07 09:52:00 2011-03-07 09:52:00   \n",
       "18281.0    2011-06-12 10:53:00 2011-06-12 10:53:00   \n",
       "18282.0    2011-08-05 13:35:00 2011-08-05 13:35:00   \n",
       "18283.0    2011-01-06 14:14:00 2011-11-30 12:59:00   \n",
       "18287.0    2011-05-22 10:39:00 2011-10-28 09:29:00   \n",
       "\n",
       "            invoicedate_purchase_duration  invoicedate_purchase_frequency  \n",
       "CustomerID                                                                 \n",
       "12346.0                                 0                        0.000000  \n",
       "12347.0                               327                       54.500000  \n",
       "12348.0                               282                       70.500000  \n",
       "12349.0                                 0                        0.000000  \n",
       "12350.0                                 0                        0.000000  \n",
       "...                                   ...                             ...  \n",
       "18280.0                                 0                        0.000000  \n",
       "18281.0                                 0                        0.000000  \n",
       "18282.0                                 0                        0.000000  \n",
       "18283.0                               327                       21.800000  \n",
       "18287.0                               158                       52.666667  \n",
       "\n",
       "[4297 rows x 9 columns]"
      ]
     },
     "execution_count": 70,
     "metadata": {},
     "output_type": "execute_result"
    }
   ],
   "source": [
    "df_summary"
   ]
  },
  {
   "cell_type": "code",
   "execution_count": 71,
   "id": "6bad5be4",
   "metadata": {},
   "outputs": [],
   "source": [
    "df_summary = df_summary.loc[df_summary['invoicedate_purchase_duration'] > 0]"
   ]
  },
  {
   "cell_type": "code",
   "execution_count": 72,
   "id": "53bc6bf3",
   "metadata": {},
   "outputs": [
    {
     "data": {
      "image/png": "[encoded data removed]",
      "text/plain": [
       "<Figure size 1000x800 with 1 Axes>"
      ]
     },
     "metadata": {},
     "output_type": "display_data"
    }
   ],
   "source": [
    "# Let's look at the number of purchases\n",
    "ax = df_summary.groupby('sales_count').count()['sales_avg'][:20].plot(\n",
    "        kind='bar', \n",
    "        color='dodgerblue', \n",
    "        figsize=(10,8), \n",
    "        grid=False)\n",
    "plt.xlabel('Sales count', fontsize=14)\n",
    "plt.ylabel('Number of customers', fontsize=14)\n",
    "plt.title('Number of purchases made by repeat customers', fontsize=16);"
   ]
  },
  {
   "cell_type": "code",
   "execution_count": 73,
   "id": "855b41e1",
   "metadata": {},
   "outputs": [
    {
     "data": {
      "image/png": "[encoded data removed]",
      "text/plain": [
       "<Figure size 1000x800 with 1 Axes>"
      ]
     },
     "metadata": {},
     "output_type": "display_data"
    }
   ],
   "source": [
    "ax = df_summary['invoicedate_purchase_frequency'].hist(\n",
    "        bins=20,\n",
    "        color='dodgerblue',\n",
    "        rwidth=0.7,\n",
    "        figsize=(10,8),\n",
    "        grid=False)\n",
    "plt.xlabel('Avearge number of days between purchases', fontsize=14)\n",
    "plt.ylabel('Number of customers', fontsize=14)\n",
    "plt.title('Frequency of purchases made by repeat customers', fontsize=16);"
   ]
  },
  {
   "cell_type": "code",
   "execution_count": 74,
   "id": "1b01cd7c",
   "metadata": {},
   "outputs": [],
   "source": [
    "clv_freq = '3M'"
   ]
  },
  {
   "cell_type": "code",
   "execution_count": 75,
   "id": "1fde93fa",
   "metadata": {},
   "outputs": [],
   "source": [
    "df_data = df_orders.reset_index().groupby([\n",
    "            'CustomerID',\n",
    "            pd.Grouper(key='InvoiceDate', freq=clv_freq)\n",
    "            ]).agg({'Sales': [sum, groupby_mean, groupby_count],})"
   ]
  },
  {
   "cell_type": "code",
   "execution_count": 76,
   "id": "3c40e501",
   "metadata": {},
   "outputs": [],
   "source": [
    "df_data.columns = ['_'.join(col).lower() for col in df_data.columns]"
   ]
  },
  {
   "cell_type": "code",
   "execution_count": 77,
   "id": "e05e67a8",
   "metadata": {},
   "outputs": [],
   "source": [
    "df_data = df_data.reset_index()"
   ]
  },
  {
   "cell_type": "code",
   "execution_count": 78,
   "id": "e58598ec",
   "metadata": {},
   "outputs": [
    {
     "name": "stdout",
     "output_type": "stream",
     "text": [
      "<class 'pandas.core.frame.DataFrame'>\n",
      "RangeIndex: 9219 entries, 0 to 9218\n",
      "Data columns (total 5 columns):\n",
      " #   Column       Non-Null Count  Dtype         \n",
      "---  ------       --------------  -----         \n",
      " 0   CustomerID   9219 non-null   float64       \n",
      " 1   InvoiceDate  9219 non-null   datetime64[ns]\n",
      " 2   sales_sum    9219 non-null   float64       \n",
      " 3   sales_avg    9219 non-null   float64       \n",
      " 4   sales_count  9219 non-null   int64         \n",
      "dtypes: datetime64[ns](1), float64(3), int64(1)\n",
      "memory usage: 360.2 KB\n"
     ]
    }
   ],
   "source": [
    "df_data.info()"
   ]
  },
  {
   "cell_type": "code",
   "execution_count": 79,
   "id": "b1a83a9d",
   "metadata": {},
   "outputs": [],
   "source": [
    "map_date_month = {str(x)[:10]: 'M_%s' % (i+1) for i, x in enumerate(\n",
    "                    sorted(df_data.reset_index()['InvoiceDate'].unique(), reverse=True))}"
   ]
  },
  {
   "cell_type": "code",
   "execution_count": 80,
   "id": "8de8228a",
   "metadata": {},
   "outputs": [
    {
     "data": {
      "text/plain": [
       "{'2011-12-31': 'M_1',\n",
       " '2011-09-30': 'M_2',\n",
       " '2011-06-30': 'M_3',\n",
       " '2011-03-31': 'M_4',\n",
       " '2010-12-31': 'M_5'}"
      ]
     },
     "execution_count": 80,
     "metadata": {},
     "output_type": "execute_result"
    }
   ],
   "source": [
    "map_date_month"
   ]
  },
  {
   "cell_type": "code",
   "execution_count": 81,
   "id": "1128cd22",
   "metadata": {},
   "outputs": [],
   "source": [
    "df_data['M'] = df_data['InvoiceDate'].apply(lambda x: map_date_month[str(x)[:10]])"
   ]
  },
  {
   "cell_type": "code",
   "execution_count": 82,
   "id": "bf3f0e4d",
   "metadata": {},
   "outputs": [
    {
     "data": {
      "text/plain": [
       "M\n",
       "M_1    2406\n",
       "M_2    2161\n",
       "M_3    1991\n",
       "M_4    1776\n",
       "M_5     885\n",
       "Name: count, dtype: int64"
      ]
     },
     "execution_count": 82,
     "metadata": {},
     "output_type": "execute_result"
    }
   ],
   "source": [
    "# Number of purchases made in each chunk\n",
    "df_data['M'].value_counts()"
   ]
  },
  {
   "cell_type": "code",
   "execution_count": 83,
   "id": "12cb84e6",
   "metadata": {},
   "outputs": [],
   "source": [
    "df_features = pd.pivot_table(\n",
    "                df_data.loc[df_data['M'] != 'M_1'], \n",
    "                values=['sales_sum', 'sales_avg', 'sales_count'], \n",
    "                columns='M', \n",
    "                index='CustomerID')"
   ]
  },
  {
   "cell_type": "code",
   "execution_count": 84,
   "id": "1063567c",
   "metadata": {},
   "outputs": [
    {
     "data": {
      "text/html": [
       "<div>\n",
       "<style scoped>\n",
       "    .dataframe tbody tr th:only-of-type {\n",
       "        vertical-align: middle;\n",
       "    }\n",
       "\n",
       "    .dataframe tbody tr th {\n",
       "        vertical-align: top;\n",
       "    }\n",
       "\n",
       "    .dataframe thead tr th {\n",
       "        text-align: left;\n",
       "    }\n",
       "</style>\n",
       "<table border=\"1\" class=\"dataframe\">\n",
       "  <thead>\n",
       "    <tr>\n",
       "      <th></th>\n",
       "      <th>CustomerID</th>\n",
       "      <th colspan=\"4\" halign=\"left\">sales_avg</th>\n",
       "      <th colspan=\"4\" halign=\"left\">sales_count</th>\n",
       "      <th colspan=\"4\" halign=\"left\">sales_sum</th>\n",
       "    </tr>\n",
       "    <tr>\n",
       "      <th>M</th>\n",
       "      <th></th>\n",
       "      <th>M_2</th>\n",
       "      <th>M_3</th>\n",
       "      <th>M_4</th>\n",
       "      <th>M_5</th>\n",
       "      <th>M_2</th>\n",
       "      <th>M_3</th>\n",
       "      <th>M_4</th>\n",
       "      <th>M_5</th>\n",
       "      <th>M_2</th>\n",
       "      <th>M_3</th>\n",
       "      <th>M_4</th>\n",
       "      <th>M_5</th>\n",
       "    </tr>\n",
       "  </thead>\n",
       "  <tbody>\n",
       "    <tr>\n",
       "      <th>0</th>\n",
       "      <td>12346.0</td>\n",
       "      <td>NaN</td>\n",
       "      <td>NaN</td>\n",
       "      <td>77183.600000</td>\n",
       "      <td>NaN</td>\n",
       "      <td>NaN</td>\n",
       "      <td>NaN</td>\n",
       "      <td>1.0</td>\n",
       "      <td>NaN</td>\n",
       "      <td>NaN</td>\n",
       "      <td>NaN</td>\n",
       "      <td>77183.60</td>\n",
       "      <td>NaN</td>\n",
       "    </tr>\n",
       "    <tr>\n",
       "      <th>1</th>\n",
       "      <td>12347.0</td>\n",
       "      <td>584.910000</td>\n",
       "      <td>509.385</td>\n",
       "      <td>475.390000</td>\n",
       "      <td>711.79</td>\n",
       "      <td>1.0</td>\n",
       "      <td>2.0</td>\n",
       "      <td>1.0</td>\n",
       "      <td>1.0</td>\n",
       "      <td>584.91</td>\n",
       "      <td>1018.77</td>\n",
       "      <td>475.39</td>\n",
       "      <td>711.79</td>\n",
       "    </tr>\n",
       "    <tr>\n",
       "      <th>2</th>\n",
       "      <td>12348.0</td>\n",
       "      <td>310.000000</td>\n",
       "      <td>367.000</td>\n",
       "      <td>227.440000</td>\n",
       "      <td>892.80</td>\n",
       "      <td>1.0</td>\n",
       "      <td>1.0</td>\n",
       "      <td>1.0</td>\n",
       "      <td>1.0</td>\n",
       "      <td>310.00</td>\n",
       "      <td>367.00</td>\n",
       "      <td>227.44</td>\n",
       "      <td>892.80</td>\n",
       "    </tr>\n",
       "    <tr>\n",
       "      <th>3</th>\n",
       "      <td>12350.0</td>\n",
       "      <td>NaN</td>\n",
       "      <td>NaN</td>\n",
       "      <td>334.400000</td>\n",
       "      <td>NaN</td>\n",
       "      <td>NaN</td>\n",
       "      <td>NaN</td>\n",
       "      <td>1.0</td>\n",
       "      <td>NaN</td>\n",
       "      <td>NaN</td>\n",
       "      <td>NaN</td>\n",
       "      <td>334.40</td>\n",
       "      <td>NaN</td>\n",
       "    </tr>\n",
       "    <tr>\n",
       "      <th>4</th>\n",
       "      <td>12352.0</td>\n",
       "      <td>316.250000</td>\n",
       "      <td>NaN</td>\n",
       "      <td>312.362000</td>\n",
       "      <td>NaN</td>\n",
       "      <td>2.0</td>\n",
       "      <td>NaN</td>\n",
       "      <td>5.0</td>\n",
       "      <td>NaN</td>\n",
       "      <td>632.50</td>\n",
       "      <td>NaN</td>\n",
       "      <td>1561.81</td>\n",
       "      <td>NaN</td>\n",
       "    </tr>\n",
       "    <tr>\n",
       "      <th>...</th>\n",
       "      <td>...</td>\n",
       "      <td>...</td>\n",
       "      <td>...</td>\n",
       "      <td>...</td>\n",
       "      <td>...</td>\n",
       "      <td>...</td>\n",
       "      <td>...</td>\n",
       "      <td>...</td>\n",
       "      <td>...</td>\n",
       "      <td>...</td>\n",
       "      <td>...</td>\n",
       "      <td>...</td>\n",
       "      <td>...</td>\n",
       "    </tr>\n",
       "    <tr>\n",
       "      <th>3611</th>\n",
       "      <td>18280.0</td>\n",
       "      <td>NaN</td>\n",
       "      <td>NaN</td>\n",
       "      <td>180.600000</td>\n",
       "      <td>NaN</td>\n",
       "      <td>NaN</td>\n",
       "      <td>NaN</td>\n",
       "      <td>1.0</td>\n",
       "      <td>NaN</td>\n",
       "      <td>NaN</td>\n",
       "      <td>NaN</td>\n",
       "      <td>180.60</td>\n",
       "      <td>NaN</td>\n",
       "    </tr>\n",
       "    <tr>\n",
       "      <th>3612</th>\n",
       "      <td>18281.0</td>\n",
       "      <td>NaN</td>\n",
       "      <td>80.820</td>\n",
       "      <td>NaN</td>\n",
       "      <td>NaN</td>\n",
       "      <td>NaN</td>\n",
       "      <td>1.0</td>\n",
       "      <td>NaN</td>\n",
       "      <td>NaN</td>\n",
       "      <td>NaN</td>\n",
       "      <td>80.82</td>\n",
       "      <td>NaN</td>\n",
       "      <td>NaN</td>\n",
       "    </tr>\n",
       "    <tr>\n",
       "      <th>3613</th>\n",
       "      <td>18282.0</td>\n",
       "      <td>100.210000</td>\n",
       "      <td>NaN</td>\n",
       "      <td>NaN</td>\n",
       "      <td>NaN</td>\n",
       "      <td>1.0</td>\n",
       "      <td>NaN</td>\n",
       "      <td>NaN</td>\n",
       "      <td>NaN</td>\n",
       "      <td>100.21</td>\n",
       "      <td>NaN</td>\n",
       "      <td>NaN</td>\n",
       "      <td>NaN</td>\n",
       "    </tr>\n",
       "    <tr>\n",
       "      <th>3614</th>\n",
       "      <td>18283.0</td>\n",
       "      <td>92.696667</td>\n",
       "      <td>131.170</td>\n",
       "      <td>105.966667</td>\n",
       "      <td>NaN</td>\n",
       "      <td>3.0</td>\n",
       "      <td>4.0</td>\n",
       "      <td>3.0</td>\n",
       "      <td>NaN</td>\n",
       "      <td>278.09</td>\n",
       "      <td>524.68</td>\n",
       "      <td>317.90</td>\n",
       "      <td>NaN</td>\n",
       "    </tr>\n",
       "    <tr>\n",
       "      <th>3615</th>\n",
       "      <td>18287.0</td>\n",
       "      <td>NaN</td>\n",
       "      <td>765.280</td>\n",
       "      <td>NaN</td>\n",
       "      <td>NaN</td>\n",
       "      <td>NaN</td>\n",
       "      <td>1.0</td>\n",
       "      <td>NaN</td>\n",
       "      <td>NaN</td>\n",
       "      <td>NaN</td>\n",
       "      <td>765.28</td>\n",
       "      <td>NaN</td>\n",
       "      <td>NaN</td>\n",
       "    </tr>\n",
       "  </tbody>\n",
       "</table>\n",
       "<p>3616 rows × 13 columns</p>\n",
       "</div>"
      ],
      "text/plain": [
       "     CustomerID   sales_avg                                sales_count       \\\n",
       "M                       M_2      M_3           M_4     M_5         M_2  M_3   \n",
       "0       12346.0         NaN      NaN  77183.600000     NaN         NaN  NaN   \n",
       "1       12347.0  584.910000  509.385    475.390000  711.79         1.0  2.0   \n",
       "2       12348.0  310.000000  367.000    227.440000  892.80         1.0  1.0   \n",
       "3       12350.0         NaN      NaN    334.400000     NaN         NaN  NaN   \n",
       "4       12352.0  316.250000      NaN    312.362000     NaN         2.0  NaN   \n",
       "...         ...         ...      ...           ...     ...         ...  ...   \n",
       "3611    18280.0         NaN      NaN    180.600000     NaN         NaN  NaN   \n",
       "3612    18281.0         NaN   80.820           NaN     NaN         NaN  1.0   \n",
       "3613    18282.0  100.210000      NaN           NaN     NaN         1.0  NaN   \n",
       "3614    18283.0   92.696667  131.170    105.966667     NaN         3.0  4.0   \n",
       "3615    18287.0         NaN  765.280           NaN     NaN         NaN  1.0   \n",
       "\n",
       "               sales_sum                             \n",
       "M     M_4  M_5       M_2      M_3       M_4     M_5  \n",
       "0     1.0  NaN       NaN      NaN  77183.60     NaN  \n",
       "1     1.0  1.0    584.91  1018.77    475.39  711.79  \n",
       "2     1.0  1.0    310.00   367.00    227.44  892.80  \n",
       "3     1.0  NaN       NaN      NaN    334.40     NaN  \n",
       "4     5.0  NaN    632.50      NaN   1561.81     NaN  \n",
       "...   ...  ...       ...      ...       ...     ...  \n",
       "3611  1.0  NaN       NaN      NaN    180.60     NaN  \n",
       "3612  NaN  NaN       NaN    80.82       NaN     NaN  \n",
       "3613  NaN  NaN    100.21      NaN       NaN     NaN  \n",
       "3614  3.0  NaN    278.09   524.68    317.90     NaN  \n",
       "3615  NaN  NaN       NaN   765.28       NaN     NaN  \n",
       "\n",
       "[3616 rows x 13 columns]"
      ]
     },
     "execution_count": 84,
     "metadata": {},
     "output_type": "execute_result"
    }
   ],
   "source": [
    "df_features.reset_index()"
   ]
  },
  {
   "cell_type": "code",
   "execution_count": 85,
   "id": "6b26de96",
   "metadata": {},
   "outputs": [],
   "source": [
    "df_features.columns = ['_'.join(col) for col in df_features.columns]"
   ]
  },
  {
   "cell_type": "code",
   "execution_count": 86,
   "id": "61e1f750",
   "metadata": {},
   "outputs": [],
   "source": [
    "df_features.reset_index(level=0, inplace=True)"
   ]
  },
  {
   "cell_type": "code",
   "execution_count": 87,
   "id": "bbaebab8",
   "metadata": {},
   "outputs": [],
   "source": [
    "df_features.fillna(0, inplace=True)"
   ]
  },
  {
   "cell_type": "code",
   "execution_count": 88,
   "id": "301af05e",
   "metadata": {},
   "outputs": [
    {
     "data": {
      "text/plain": [
       "0"
      ]
     },
     "execution_count": 88,
     "metadata": {},
     "output_type": "execute_result"
    }
   ],
   "source": [
    "# Let's check the Null values\n",
    "df_features.isnull().sum().sum()"
   ]
  },
  {
   "cell_type": "code",
   "execution_count": 89,
   "id": "c924c301",
   "metadata": {},
   "outputs": [
    {
     "name": "stdout",
     "output_type": "stream",
     "text": [
      "<class 'pandas.core.frame.DataFrame'>\n",
      "RangeIndex: 3616 entries, 0 to 3615\n",
      "Data columns (total 13 columns):\n",
      " #   Column           Non-Null Count  Dtype  \n",
      "---  ------           --------------  -----  \n",
      " 0   CustomerID       3616 non-null   float64\n",
      " 1   sales_avg_M_2    3616 non-null   float64\n",
      " 2   sales_avg_M_3    3616 non-null   float64\n",
      " 3   sales_avg_M_4    3616 non-null   float64\n",
      " 4   sales_avg_M_5    3616 non-null   float64\n",
      " 5   sales_count_M_2  3616 non-null   float64\n",
      " 6   sales_count_M_3  3616 non-null   float64\n",
      " 7   sales_count_M_4  3616 non-null   float64\n",
      " 8   sales_count_M_5  3616 non-null   float64\n",
      " 9   sales_sum_M_2    3616 non-null   float64\n",
      " 10  sales_sum_M_3    3616 non-null   float64\n",
      " 11  sales_sum_M_4    3616 non-null   float64\n",
      " 12  sales_sum_M_5    3616 non-null   float64\n",
      "dtypes: float64(13)\n",
      "memory usage: 367.4 KB\n"
     ]
    }
   ],
   "source": [
    "df_features.info()"
   ]
  },
  {
   "cell_type": "code",
   "execution_count": 90,
   "id": "9db777b1",
   "metadata": {},
   "outputs": [],
   "source": [
    "df_target = df_data.loc[df_data['M'] == 'M_1', ['CustomerID', 'sales_sum']]"
   ]
  },
  {
   "cell_type": "code",
   "execution_count": 91,
   "id": "011deac5",
   "metadata": {},
   "outputs": [],
   "source": [
    "df_target.columns = ['CustomerID', 'CLV_'+clv_freq]"
   ]
  },
  {
   "cell_type": "code",
   "execution_count": 92,
   "id": "a1bc4eae",
   "metadata": {},
   "outputs": [],
   "source": [
    "df_sample_set = df_features.merge(\n",
    "                df_target, \n",
    "                left_on='CustomerID', \n",
    "                right_on='CustomerID',\n",
    "                how='left')"
   ]
  },
  {
   "cell_type": "code",
   "execution_count": 93,
   "id": "f3c7f07d",
   "metadata": {},
   "outputs": [],
   "source": [
    "df_sample_set.fillna(0, inplace=True)"
   ]
  },
  {
   "cell_type": "code",
   "execution_count": 94,
   "id": "14a0c75a",
   "metadata": {},
   "outputs": [
    {
     "data": {
      "text/plain": [
       "count     3616.000000\n",
       "mean       511.558520\n",
       "std       2371.743293\n",
       "min          0.000000\n",
       "25%          0.000000\n",
       "50%          0.000000\n",
       "75%        458.662500\n",
       "max      68012.350000\n",
       "Name: CLV_3M, dtype: float64"
      ]
     },
     "execution_count": 94,
     "metadata": {},
     "output_type": "execute_result"
    }
   ],
   "source": [
    "df_sample_set['CLV_3M'].describe()"
   ]
  },
  {
   "cell_type": "code",
   "execution_count": 95,
   "id": "4fbef9a0",
   "metadata": {},
   "outputs": [],
   "source": [
    "from sklearn.model_selection import train_test_split\n",
    "from sklearn.linear_model import LinearRegression"
   ]
  },
  {
   "cell_type": "code",
   "execution_count": 96,
   "id": "a447f95e",
   "metadata": {},
   "outputs": [],
   "source": [
    "target_var = 'CLV_3M'\n",
    "all_features = [x for x in df_sample_set.columns if x not in ['CustomerID', target_var]]"
   ]
  },
  {
   "cell_type": "code",
   "execution_count": 97,
   "id": "28eadd68",
   "metadata": {},
   "outputs": [
    {
     "data": {
      "text/plain": [
       "['sales_avg_M_2',\n",
       " 'sales_avg_M_3',\n",
       " 'sales_avg_M_4',\n",
       " 'sales_avg_M_5',\n",
       " 'sales_count_M_2',\n",
       " 'sales_count_M_3',\n",
       " 'sales_count_M_4',\n",
       " 'sales_count_M_5',\n",
       " 'sales_sum_M_2',\n",
       " 'sales_sum_M_3',\n",
       " 'sales_sum_M_4',\n",
       " 'sales_sum_M_5']"
      ]
     },
     "execution_count": 97,
     "metadata": {},
     "output_type": "execute_result"
    }
   ],
   "source": [
    "all_features"
   ]
  },
  {
   "cell_type": "code",
   "execution_count": 98,
   "id": "47dc5a4f",
   "metadata": {},
   "outputs": [
    {
     "data": {
      "text/html": [
       "<div>\n",
       "<style scoped>\n",
       "    .dataframe tbody tr th:only-of-type {\n",
       "        vertical-align: middle;\n",
       "    }\n",
       "\n",
       "    .dataframe tbody tr th {\n",
       "        vertical-align: top;\n",
       "    }\n",
       "\n",
       "    .dataframe thead th {\n",
       "        text-align: right;\n",
       "    }\n",
       "</style>\n",
       "<table border=\"1\" class=\"dataframe\">\n",
       "  <thead>\n",
       "    <tr style=\"text-align: right;\">\n",
       "      <th></th>\n",
       "      <th>CustomerID</th>\n",
       "      <th>sales_avg_M_2</th>\n",
       "      <th>sales_avg_M_3</th>\n",
       "      <th>sales_avg_M_4</th>\n",
       "      <th>sales_avg_M_5</th>\n",
       "      <th>sales_count_M_2</th>\n",
       "      <th>sales_count_M_3</th>\n",
       "      <th>sales_count_M_4</th>\n",
       "      <th>sales_count_M_5</th>\n",
       "      <th>sales_sum_M_2</th>\n",
       "      <th>sales_sum_M_3</th>\n",
       "      <th>sales_sum_M_4</th>\n",
       "      <th>sales_sum_M_5</th>\n",
       "      <th>CLV_3M</th>\n",
       "    </tr>\n",
       "  </thead>\n",
       "  <tbody>\n",
       "    <tr>\n",
       "      <th>0</th>\n",
       "      <td>12346.0</td>\n",
       "      <td>0.000000</td>\n",
       "      <td>0.000</td>\n",
       "      <td>77183.600000</td>\n",
       "      <td>0.00</td>\n",
       "      <td>0.0</td>\n",
       "      <td>0.0</td>\n",
       "      <td>1.0</td>\n",
       "      <td>0.0</td>\n",
       "      <td>0.00</td>\n",
       "      <td>0.00</td>\n",
       "      <td>77183.60</td>\n",
       "      <td>0.00</td>\n",
       "      <td>0.00</td>\n",
       "    </tr>\n",
       "    <tr>\n",
       "      <th>1</th>\n",
       "      <td>12347.0</td>\n",
       "      <td>584.910000</td>\n",
       "      <td>509.385</td>\n",
       "      <td>475.390000</td>\n",
       "      <td>711.79</td>\n",
       "      <td>1.0</td>\n",
       "      <td>2.0</td>\n",
       "      <td>1.0</td>\n",
       "      <td>1.0</td>\n",
       "      <td>584.91</td>\n",
       "      <td>1018.77</td>\n",
       "      <td>475.39</td>\n",
       "      <td>711.79</td>\n",
       "      <td>1294.32</td>\n",
       "    </tr>\n",
       "    <tr>\n",
       "      <th>2</th>\n",
       "      <td>12348.0</td>\n",
       "      <td>310.000000</td>\n",
       "      <td>367.000</td>\n",
       "      <td>227.440000</td>\n",
       "      <td>892.80</td>\n",
       "      <td>1.0</td>\n",
       "      <td>1.0</td>\n",
       "      <td>1.0</td>\n",
       "      <td>1.0</td>\n",
       "      <td>310.00</td>\n",
       "      <td>367.00</td>\n",
       "      <td>227.44</td>\n",
       "      <td>892.80</td>\n",
       "      <td>0.00</td>\n",
       "    </tr>\n",
       "    <tr>\n",
       "      <th>3</th>\n",
       "      <td>12350.0</td>\n",
       "      <td>0.000000</td>\n",
       "      <td>0.000</td>\n",
       "      <td>334.400000</td>\n",
       "      <td>0.00</td>\n",
       "      <td>0.0</td>\n",
       "      <td>0.0</td>\n",
       "      <td>1.0</td>\n",
       "      <td>0.0</td>\n",
       "      <td>0.00</td>\n",
       "      <td>0.00</td>\n",
       "      <td>334.40</td>\n",
       "      <td>0.00</td>\n",
       "      <td>0.00</td>\n",
       "    </tr>\n",
       "    <tr>\n",
       "      <th>4</th>\n",
       "      <td>12352.0</td>\n",
       "      <td>316.250000</td>\n",
       "      <td>0.000</td>\n",
       "      <td>312.362000</td>\n",
       "      <td>0.00</td>\n",
       "      <td>2.0</td>\n",
       "      <td>0.0</td>\n",
       "      <td>5.0</td>\n",
       "      <td>0.0</td>\n",
       "      <td>632.50</td>\n",
       "      <td>0.00</td>\n",
       "      <td>1561.81</td>\n",
       "      <td>0.00</td>\n",
       "      <td>311.73</td>\n",
       "    </tr>\n",
       "    <tr>\n",
       "      <th>...</th>\n",
       "      <td>...</td>\n",
       "      <td>...</td>\n",
       "      <td>...</td>\n",
       "      <td>...</td>\n",
       "      <td>...</td>\n",
       "      <td>...</td>\n",
       "      <td>...</td>\n",
       "      <td>...</td>\n",
       "      <td>...</td>\n",
       "      <td>...</td>\n",
       "      <td>...</td>\n",
       "      <td>...</td>\n",
       "      <td>...</td>\n",
       "      <td>...</td>\n",
       "    </tr>\n",
       "    <tr>\n",
       "      <th>3611</th>\n",
       "      <td>18280.0</td>\n",
       "      <td>0.000000</td>\n",
       "      <td>0.000</td>\n",
       "      <td>180.600000</td>\n",
       "      <td>0.00</td>\n",
       "      <td>0.0</td>\n",
       "      <td>0.0</td>\n",
       "      <td>1.0</td>\n",
       "      <td>0.0</td>\n",
       "      <td>0.00</td>\n",
       "      <td>0.00</td>\n",
       "      <td>180.60</td>\n",
       "      <td>0.00</td>\n",
       "      <td>0.00</td>\n",
       "    </tr>\n",
       "    <tr>\n",
       "      <th>3612</th>\n",
       "      <td>18281.0</td>\n",
       "      <td>0.000000</td>\n",
       "      <td>80.820</td>\n",
       "      <td>0.000000</td>\n",
       "      <td>0.00</td>\n",
       "      <td>0.0</td>\n",
       "      <td>1.0</td>\n",
       "      <td>0.0</td>\n",
       "      <td>0.0</td>\n",
       "      <td>0.00</td>\n",
       "      <td>80.82</td>\n",
       "      <td>0.00</td>\n",
       "      <td>0.00</td>\n",
       "      <td>0.00</td>\n",
       "    </tr>\n",
       "    <tr>\n",
       "      <th>3613</th>\n",
       "      <td>18282.0</td>\n",
       "      <td>100.210000</td>\n",
       "      <td>0.000</td>\n",
       "      <td>0.000000</td>\n",
       "      <td>0.00</td>\n",
       "      <td>1.0</td>\n",
       "      <td>0.0</td>\n",
       "      <td>0.0</td>\n",
       "      <td>0.0</td>\n",
       "      <td>100.21</td>\n",
       "      <td>0.00</td>\n",
       "      <td>0.00</td>\n",
       "      <td>0.00</td>\n",
       "      <td>0.00</td>\n",
       "    </tr>\n",
       "    <tr>\n",
       "      <th>3614</th>\n",
       "      <td>18283.0</td>\n",
       "      <td>92.696667</td>\n",
       "      <td>131.170</td>\n",
       "      <td>105.966667</td>\n",
       "      <td>0.00</td>\n",
       "      <td>3.0</td>\n",
       "      <td>4.0</td>\n",
       "      <td>3.0</td>\n",
       "      <td>0.0</td>\n",
       "      <td>278.09</td>\n",
       "      <td>524.68</td>\n",
       "      <td>317.90</td>\n",
       "      <td>0.00</td>\n",
       "      <td>766.21</td>\n",
       "    </tr>\n",
       "    <tr>\n",
       "      <th>3615</th>\n",
       "      <td>18287.0</td>\n",
       "      <td>0.000000</td>\n",
       "      <td>765.280</td>\n",
       "      <td>0.000000</td>\n",
       "      <td>0.00</td>\n",
       "      <td>0.0</td>\n",
       "      <td>1.0</td>\n",
       "      <td>0.0</td>\n",
       "      <td>0.0</td>\n",
       "      <td>0.00</td>\n",
       "      <td>765.28</td>\n",
       "      <td>0.00</td>\n",
       "      <td>0.00</td>\n",
       "      <td>1072.00</td>\n",
       "    </tr>\n",
       "  </tbody>\n",
       "</table>\n",
       "<p>3616 rows × 14 columns</p>\n",
       "</div>"
      ],
      "text/plain": [
       "      CustomerID  sales_avg_M_2  sales_avg_M_3  sales_avg_M_4  sales_avg_M_5  \\\n",
       "0        12346.0       0.000000          0.000   77183.600000           0.00   \n",
       "1        12347.0     584.910000        509.385     475.390000         711.79   \n",
       "2        12348.0     310.000000        367.000     227.440000         892.80   \n",
       "3        12350.0       0.000000          0.000     334.400000           0.00   \n",
       "4        12352.0     316.250000          0.000     312.362000           0.00   \n",
       "...          ...            ...            ...            ...            ...   \n",
       "3611     18280.0       0.000000          0.000     180.600000           0.00   \n",
       "3612     18281.0       0.000000         80.820       0.000000           0.00   \n",
       "3613     18282.0     100.210000          0.000       0.000000           0.00   \n",
       "3614     18283.0      92.696667        131.170     105.966667           0.00   \n",
       "3615     18287.0       0.000000        765.280       0.000000           0.00   \n",
       "\n",
       "      sales_count_M_2  sales_count_M_3  sales_count_M_4  sales_count_M_5  \\\n",
       "0                 0.0              0.0              1.0              0.0   \n",
       "1                 1.0              2.0              1.0              1.0   \n",
       "2                 1.0              1.0              1.0              1.0   \n",
       "3                 0.0              0.0              1.0              0.0   \n",
       "4                 2.0              0.0              5.0              0.0   \n",
       "...               ...              ...              ...              ...   \n",
       "3611              0.0              0.0              1.0              0.0   \n",
       "3612              0.0              1.0              0.0              0.0   \n",
       "3613              1.0              0.0              0.0              0.0   \n",
       "3614              3.0              4.0              3.0              0.0   \n",
       "3615              0.0              1.0              0.0              0.0   \n",
       "\n",
       "      sales_sum_M_2  sales_sum_M_3  sales_sum_M_4  sales_sum_M_5   CLV_3M  \n",
       "0              0.00           0.00       77183.60           0.00     0.00  \n",
       "1            584.91        1018.77         475.39         711.79  1294.32  \n",
       "2            310.00         367.00         227.44         892.80     0.00  \n",
       "3              0.00           0.00         334.40           0.00     0.00  \n",
       "4            632.50           0.00        1561.81           0.00   311.73  \n",
       "...             ...            ...            ...            ...      ...  \n",
       "3611           0.00           0.00         180.60           0.00     0.00  \n",
       "3612           0.00          80.82           0.00           0.00     0.00  \n",
       "3613         100.21           0.00           0.00           0.00     0.00  \n",
       "3614         278.09         524.68         317.90           0.00   766.21  \n",
       "3615           0.00         765.28           0.00           0.00  1072.00  \n",
       "\n",
       "[3616 rows x 14 columns]"
      ]
     },
     "execution_count": 98,
     "metadata": {},
     "output_type": "execute_result"
    }
   ],
   "source": [
    "df_sample_set"
   ]
  },
  {
   "cell_type": "code",
   "execution_count": 99,
   "id": "b19da66f",
   "metadata": {},
   "outputs": [],
   "source": [
    "X_train, X_test, y_train, y_test = train_test_split(\n",
    "                                    df_sample_set[all_features], \n",
    "                                    df_sample_set[target_var], \n",
    "                                    random_state=2,\n",
    "                                    test_size=0.35)"
   ]
  },
  {
   "cell_type": "code",
   "execution_count": 100,
   "id": "3da4bb29",
   "metadata": {},
   "outputs": [],
   "source": [
    "lin_reg = LinearRegression(n_jobs=1)"
   ]
  },
  {
   "cell_type": "code",
   "execution_count": 101,
   "id": "089ed560",
   "metadata": {},
   "outputs": [
    {
     "data": {
      "text/html": [
       "<style>#sk-container-id-1 {color: black;background-color: white;}#sk-container-id-1 pre{padding: 0;}#sk-container-id-1 div.sk-toggleable {background-color: white;}#sk-container-id-1 label.sk-toggleable__label {cursor: pointer;display: block;width: 100%;margin-bottom: 0;padding: 0.3em;box-sizing: border-box;text-align: center;}#sk-container-id-1 label.sk-toggleable__label-arrow:before {content: \"▸\";float: left;margin-right: 0.25em;color: #696969;}#sk-container-id-1 label.sk-toggleable__label-arrow:hover:before {color: black;}#sk-container-id-1 div.sk-estimator:hover label.sk-toggleable__label-arrow:before {color: black;}#sk-container-id-1 div.sk-toggleable__content {max-height: 0;max-width: 0;overflow: hidden;text-align: left;background-color: #f0f8ff;}#sk-container-id-1 div.sk-toggleable__content pre {margin: 0.2em;color: black;border-radius: 0.25em;background-color: #f0f8ff;}#sk-container-id-1 input.sk-toggleable__control:checked~div.sk-toggleable__content {max-height: 200px;max-width: 100%;overflow: auto;}#sk-container-id-1 input.sk-toggleable__control:checked~label.sk-toggleable__label-arrow:before {content: \"▾\";}#sk-container-id-1 div.sk-estimator input.sk-toggleable__control:checked~label.sk-toggleable__label {background-color: #d4ebff;}#sk-container-id-1 div.sk-label input.sk-toggleable__control:checked~label.sk-toggleable__label {background-color: #d4ebff;}#sk-container-id-1 input.sk-hidden--visually {border: 0;clip: rect(1px 1px 1px 1px);clip: rect(1px, 1px, 1px, 1px);height: 1px;margin: -1px;overflow: hidden;padding: 0;position: absolute;width: 1px;}#sk-container-id-1 div.sk-estimator {font-family: monospace;background-color: #f0f8ff;border: 1px dotted black;border-radius: 0.25em;box-sizing: border-box;margin-bottom: 0.5em;}#sk-container-id-1 div.sk-estimator:hover {background-color: #d4ebff;}#sk-container-id-1 div.sk-parallel-item::after {content: \"\";width: 100%;border-bottom: 1px solid gray;flex-grow: 1;}#sk-container-id-1 div.sk-label:hover label.sk-toggleable__label {background-color: #d4ebff;}#sk-container-id-1 div.sk-serial::before {content: \"\";position: absolute;border-left: 1px solid gray;box-sizing: border-box;top: 0;bottom: 0;left: 50%;z-index: 0;}#sk-container-id-1 div.sk-serial {display: flex;flex-direction: column;align-items: center;background-color: white;padding-right: 0.2em;padding-left: 0.2em;position: relative;}#sk-container-id-1 div.sk-item {position: relative;z-index: 1;}#sk-container-id-1 div.sk-parallel {display: flex;align-items: stretch;justify-content: center;background-color: white;position: relative;}#sk-container-id-1 div.sk-item::before, #sk-container-id-1 div.sk-parallel-item::before {content: \"\";position: absolute;border-left: 1px solid gray;box-sizing: border-box;top: 0;bottom: 0;left: 50%;z-index: -1;}#sk-container-id-1 div.sk-parallel-item {display: flex;flex-direction: column;z-index: 1;position: relative;background-color: white;}#sk-container-id-1 div.sk-parallel-item:first-child::after {align-self: flex-end;width: 50%;}#sk-container-id-1 div.sk-parallel-item:last-child::after {align-self: flex-start;width: 50%;}#sk-container-id-1 div.sk-parallel-item:only-child::after {width: 0;}#sk-container-id-1 div.sk-dashed-wrapped {border: 1px dashed gray;margin: 0 0.4em 0.5em 0.4em;box-sizing: border-box;padding-bottom: 0.4em;background-color: white;}#sk-container-id-1 div.sk-label label {font-family: monospace;font-weight: bold;display: inline-block;line-height: 1.2em;}#sk-container-id-1 div.sk-label-container {text-align: center;}#sk-container-id-1 div.sk-container {/* jupyter's `normalize.less` sets `[hidden] { display: none; }` but bootstrap.min.css set `[hidden] { display: none !important; }` so we also need the `!important` here to be able to override the default hidden behavior on the sphinx rendered scikit-learn.org. See: https://github.com/scikit-learn/scikit-learn/issues/21755 */display: inline-block !important;position: relative;}#sk-container-id-1 div.sk-text-repr-fallback {display: none;}</style><div id=\"sk-container-id-1\" class=\"sk-top-container\"><div class=\"sk-text-repr-fallback\"><pre>LinearRegression(n_jobs=1)</pre><b>In a Jupyter environment, please rerun this cell to show the HTML representation or trust the notebook. <br />On GitHub, the HTML representation is unable to render, please try loading this page with nbviewer.org.</b></div><div class=\"sk-container\" hidden><div class=\"sk-item\"><div class=\"sk-estimator sk-toggleable\"><input class=\"sk-toggleable__control sk-hidden--visually\" id=\"sk-estimator-id-1\" type=\"checkbox\" checked><label for=\"sk-estimator-id-1\" class=\"sk-toggleable__label sk-toggleable__label-arrow\">LinearRegression</label><div class=\"sk-toggleable__content\"><pre>LinearRegression(n_jobs=1)</pre></div></div></div></div></div>"
      ],
      "text/plain": [
       "LinearRegression(n_jobs=1)"
      ]
     },
     "execution_count": 101,
     "metadata": {},
     "output_type": "execute_result"
    }
   ],
   "source": [
    "lin_reg.fit(X_train, y_train)"
   ]
  },
  {
   "cell_type": "code",
   "execution_count": 102,
   "id": "4b3379a6",
   "metadata": {},
   "outputs": [
    {
     "data": {
      "text/plain": [
       "-17.5265803134954"
      ]
     },
     "execution_count": 102,
     "metadata": {},
     "output_type": "execute_result"
    }
   ],
   "source": [
    "lin_reg.intercept_"
   ]
  },
  {
   "cell_type": "code",
   "execution_count": 103,
   "id": "8bf012e6",
   "metadata": {},
   "outputs": [
    {
     "data": {
      "text/html": [
       "<div>\n",
       "<style scoped>\n",
       "    .dataframe tbody tr th:only-of-type {\n",
       "        vertical-align: middle;\n",
       "    }\n",
       "\n",
       "    .dataframe tbody tr th {\n",
       "        vertical-align: top;\n",
       "    }\n",
       "\n",
       "    .dataframe thead th {\n",
       "        text-align: right;\n",
       "    }\n",
       "</style>\n",
       "<table border=\"1\" class=\"dataframe\">\n",
       "  <thead>\n",
       "    <tr style=\"text-align: right;\">\n",
       "      <th></th>\n",
       "      <th>feature</th>\n",
       "      <th>coef</th>\n",
       "    </tr>\n",
       "  </thead>\n",
       "  <tbody>\n",
       "    <tr>\n",
       "      <th>0</th>\n",
       "      <td>sales_avg_M_2</td>\n",
       "      <td>0.211380</td>\n",
       "    </tr>\n",
       "    <tr>\n",
       "      <th>1</th>\n",
       "      <td>sales_avg_M_3</td>\n",
       "      <td>-0.059222</td>\n",
       "    </tr>\n",
       "    <tr>\n",
       "      <th>2</th>\n",
       "      <td>sales_avg_M_4</td>\n",
       "      <td>0.091413</td>\n",
       "    </tr>\n",
       "    <tr>\n",
       "      <th>3</th>\n",
       "      <td>sales_avg_M_5</td>\n",
       "      <td>-0.581033</td>\n",
       "    </tr>\n",
       "    <tr>\n",
       "      <th>4</th>\n",
       "      <td>sales_count_M_2</td>\n",
       "      <td>128.559625</td>\n",
       "    </tr>\n",
       "    <tr>\n",
       "      <th>5</th>\n",
       "      <td>sales_count_M_3</td>\n",
       "      <td>-55.323992</td>\n",
       "    </tr>\n",
       "    <tr>\n",
       "      <th>6</th>\n",
       "      <td>sales_count_M_4</td>\n",
       "      <td>18.092563</td>\n",
       "    </tr>\n",
       "    <tr>\n",
       "      <th>7</th>\n",
       "      <td>sales_count_M_5</td>\n",
       "      <td>-39.690706</td>\n",
       "    </tr>\n",
       "    <tr>\n",
       "      <th>8</th>\n",
       "      <td>sales_sum_M_2</td>\n",
       "      <td>0.251125</td>\n",
       "    </tr>\n",
       "    <tr>\n",
       "      <th>9</th>\n",
       "      <td>sales_sum_M_3</td>\n",
       "      <td>0.377412</td>\n",
       "    </tr>\n",
       "    <tr>\n",
       "      <th>10</th>\n",
       "      <td>sales_sum_M_4</td>\n",
       "      <td>-0.076224</td>\n",
       "    </tr>\n",
       "    <tr>\n",
       "      <th>11</th>\n",
       "      <td>sales_sum_M_5</td>\n",
       "      <td>0.907732</td>\n",
       "    </tr>\n",
       "  </tbody>\n",
       "</table>\n",
       "</div>"
      ],
      "text/plain": [
       "            feature        coef\n",
       "0     sales_avg_M_2    0.211380\n",
       "1     sales_avg_M_3   -0.059222\n",
       "2     sales_avg_M_4    0.091413\n",
       "3     sales_avg_M_5   -0.581033\n",
       "4   sales_count_M_2  128.559625\n",
       "5   sales_count_M_3  -55.323992\n",
       "6   sales_count_M_4   18.092563\n",
       "7   sales_count_M_5  -39.690706\n",
       "8     sales_sum_M_2    0.251125\n",
       "9     sales_sum_M_3    0.377412\n",
       "10    sales_sum_M_4   -0.076224\n",
       "11    sales_sum_M_5    0.907732"
      ]
     },
     "execution_count": 103,
     "metadata": {},
     "output_type": "execute_result"
    }
   ],
   "source": [
    "coef = pd.DataFrame(list(zip(all_features, lin_reg.coef_)))\n",
    "coef.columns = ['feature', 'coef']\n",
    "coef"
   ]
  },
  {
   "cell_type": "code",
   "execution_count": 104,
   "id": "487a9170",
   "metadata": {},
   "outputs": [],
   "source": [
    "from sklearn.metrics import r2_score, median_absolute_error"
   ]
  },
  {
   "cell_type": "code",
   "execution_count": 105,
   "id": "01219ac9",
   "metadata": {},
   "outputs": [],
   "source": [
    "train_preds =  lin_reg.predict(X_train)\n",
    "test_preds = lin_reg.predict(X_test)"
   ]
  },
  {
   "cell_type": "code",
   "execution_count": 106,
   "id": "eb8c8929",
   "metadata": {},
   "outputs": [
    {
     "name": "stdout",
     "output_type": "stream",
     "text": [
      "R-Squared for Train set: 0.71\n",
      "R-Squared for Test set: 0.71\n"
     ]
    }
   ],
   "source": [
    "print('R-Squared for Train set: %0.2f' % r2_score(y_true=y_train, y_pred=train_preds))\n",
    "print('R-Squared for Test set: %0.2f' % r2_score(y_true=y_test, y_pred=test_preds))"
   ]
  },
  {
   "cell_type": "code",
   "execution_count": 107,
   "id": "e1b03b74",
   "metadata": {},
   "outputs": [
    {
     "name": "stdout",
     "output_type": "stream",
     "text": [
      "MedAE for Train set: 202.41\n",
      "MedAE for Test set: 205.20\n"
     ]
    }
   ],
   "source": [
    "print('MedAE for Train set: %0.2f' % median_absolute_error(y_true=y_train, y_pred=train_preds))\n",
    "print('MedAE for Test set: %0.2f' % median_absolute_error(y_true=y_test, y_pred=test_preds))"
   ]
  },
  {
   "cell_type": "code",
   "execution_count": 108,
   "id": "2b76b67f",
   "metadata": {},
   "outputs": [
    {
     "data": {
      "image/png": "[encoded data removed]",
      "text/plain": [
       "<Figure size 640x480 with 1 Axes>"
      ]
     },
     "metadata": {},
     "output_type": "display_data"
    }
   ],
   "source": [
    "plt.figure(figsize=(8, 6), dpi=80)\n",
    "plt.scatter(y_train, train_preds, color='dodgerblue')\n",
    "plt.plot([0, max(y_train)], [0, max(train_preds)], color='gray', lw=1, linestyle='--')\n",
    "\n",
    "plt.xlabel('Actual Values', fontsize=14)\n",
    "plt.ylabel('Predicted Values', fontsize=14)\n",
    "plt.title('Actual vs. Predicted for Train Set', fontsize=16)\n",
    "plt.grid()"
   ]
  },
  {
   "cell_type": "code",
   "execution_count": 109,
   "id": "98324517",
   "metadata": {},
   "outputs": [
    {
     "data": {
      "image/png": "[encoded data removed]",
      "text/plain": [
       "<Figure size 640x480 with 1 Axes>"
      ]
     },
     "metadata": {},
     "output_type": "display_data"
    }
   ],
   "source": [
    "plt.figure(figsize=(8, 6), dpi=80)\n",
    "plt.scatter(y_test, test_preds, color='dodgerblue')\n",
    "plt.plot([0, max(y_test)], [0, max(test_preds)], color='gray', lw=1, linestyle='--')\n",
    "\n",
    "plt.xlabel('Actual Values', fontsize=14)\n",
    "plt.ylabel('Predicted Values', fontsize=14)\n",
    "plt.title('Actual vs. Predicted for Test Set', fontsize=16)\n",
    "plt.grid()"
   ]
  },
  {
   "cell_type": "code",
   "execution_count": null,
   "id": "5fd502cd",
   "metadata": {},
   "outputs": [],
   "source": []
  }
 ],
 "metadata": {
  "kernelspec": {
   "display_name": "Python 3 (ipykernel)",
   "language": "python",
   "name": "python3"
  },
  "language_info": {
   "codemirror_mode": {
    "name": "ipython",
    "version": 3
   },
   "file_extension": ".py",
   "mimetype": "text/x-python",
   "name": "python",
   "nbconvert_exporter": "python",
   "pygments_lexer": "ipython3",
   "version": "3.10.11"
  }
 },
 "nbformat": 4,
 "nbformat_minor": 5
}
